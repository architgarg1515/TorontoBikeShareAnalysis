{
 "cells": [
  {
   "cell_type": "code",
   "execution_count": 1,
   "metadata": {},
   "outputs": [],
   "source": [
    "import pandas as pd\n",
    "import numpy as np\n",
    "import matplotlib.pyplot as plt\n",
    "%matplotlib inline\n"
   ]
  },
  {
   "cell_type": "code",
   "execution_count": 2,
   "metadata": {},
   "outputs": [],
   "source": [
    "#dfs = pd.read_excel(file_name=\"Analyst Technical Test v1.2 (1).xlsx\", sheet_name=\"TripValues\")\n",
    "df = pd.ExcelFile('Analyst Technical Test v1.2 (1).xlsx').parse('TripValues')"
   ]
  },
  {
   "cell_type": "markdown",
   "metadata": {},
   "source": [
    "### Part 1 - Summary data documentation"
   ]
  },
  {
   "cell_type": "code",
   "execution_count": 3,
   "metadata": {},
   "outputs": [
    {
     "name": "stdout",
     "output_type": "stream",
     "text": [
      "<class 'pandas.core.frame.DataFrame'>\n",
      "RangeIndex: 81911 entries, 0 to 81910\n",
      "Data columns (total 5 columns):\n",
      "ID                   81911 non-null int64\n",
      "UserID               81911 non-null int64\n",
      "DistanceTravelled    81881 non-null float64\n",
      "OverallScore         81911 non-null float64\n",
      "RegisteredOn         81911 non-null datetime64[ns]\n",
      "dtypes: datetime64[ns](1), float64(2), int64(2)\n",
      "memory usage: 3.1 MB\n"
     ]
    }
   ],
   "source": [
    "#Field Names & data types\n",
    "df.info()"
   ]
  },
  {
   "cell_type": "markdown",
   "metadata": {},
   "source": [
    "**info() displays a concise summary** of a DataFrame, here we can see there are total 81911 row entries in the data, while in **DistanceTravelled we have 81881 values** which indicates that there are some values missing in the column distance travelled. "
   ]
  },
  {
   "cell_type": "markdown",
   "metadata": {},
   "source": [
    "#### Field Names & Data Types\n",
    "\n",
    "We observe that we have 5 fields in the dataset namely - ID, UserID, DistanceTravelled, OverallScore, and RegisteredOn\n",
    "\n",
    "The datatypes for these fields are int64, int64, float64, float64, and datetime64 respectively."
   ]
  },
  {
   "cell_type": "markdown",
   "metadata": {},
   "source": [
    "#### Description of Fields\n",
    "id - entry of each transaction into database\n",
    "\n",
    "user id -id of unique user \n",
    "\n",
    "dist travelled - distance traveled by a particular user\n",
    "\n",
    "overall score - overall score for the trip taken by a user \n",
    "\n",
    "registered on - date the trip was taken by the user and registered by the app\n"
   ]
  },
  {
   "cell_type": "markdown",
   "metadata": {},
   "source": [
    "#### Primary Key in data\n",
    "The field ID is the primary key in this TripValues table because it uniquely identifies each transaction recorded by the app\n"
   ]
  },
  {
   "cell_type": "markdown",
   "metadata": {},
   "source": [
    "#### Data Summary Statistics"
   ]
  },
  {
   "cell_type": "code",
   "execution_count": 4,
   "metadata": {},
   "outputs": [
    {
     "data": {
      "text/html": [
       "<div>\n",
       "<style scoped>\n",
       "    .dataframe tbody tr th:only-of-type {\n",
       "        vertical-align: middle;\n",
       "    }\n",
       "\n",
       "    .dataframe tbody tr th {\n",
       "        vertical-align: top;\n",
       "    }\n",
       "\n",
       "    .dataframe thead th {\n",
       "        text-align: right;\n",
       "    }\n",
       "</style>\n",
       "<table border=\"1\" class=\"dataframe\">\n",
       "  <thead>\n",
       "    <tr style=\"text-align: right;\">\n",
       "      <th></th>\n",
       "      <th>ID</th>\n",
       "      <th>UserID</th>\n",
       "      <th>DistanceTravelled</th>\n",
       "      <th>OverallScore</th>\n",
       "    </tr>\n",
       "  </thead>\n",
       "  <tbody>\n",
       "    <tr>\n",
       "      <th>count</th>\n",
       "      <td>81911.000000</td>\n",
       "      <td>81911.000000</td>\n",
       "      <td>81881.000000</td>\n",
       "      <td>81911.000000</td>\n",
       "    </tr>\n",
       "    <tr>\n",
       "      <th>mean</th>\n",
       "      <td>40956.000000</td>\n",
       "      <td>7512.695694</td>\n",
       "      <td>162.406150</td>\n",
       "      <td>0.505622</td>\n",
       "    </tr>\n",
       "    <tr>\n",
       "      <th>std</th>\n",
       "      <td>23645.813287</td>\n",
       "      <td>4326.868534</td>\n",
       "      <td>93.600229</td>\n",
       "      <td>0.288073</td>\n",
       "    </tr>\n",
       "    <tr>\n",
       "      <th>min</th>\n",
       "      <td>1.000000</td>\n",
       "      <td>1.000000</td>\n",
       "      <td>1.000000</td>\n",
       "      <td>0.010000</td>\n",
       "    </tr>\n",
       "    <tr>\n",
       "      <th>25%</th>\n",
       "      <td>20478.500000</td>\n",
       "      <td>3748.000000</td>\n",
       "      <td>81.000000</td>\n",
       "      <td>0.260000</td>\n",
       "    </tr>\n",
       "    <tr>\n",
       "      <th>50%</th>\n",
       "      <td>40956.000000</td>\n",
       "      <td>7554.000000</td>\n",
       "      <td>162.000000</td>\n",
       "      <td>0.510000</td>\n",
       "    </tr>\n",
       "    <tr>\n",
       "      <th>75%</th>\n",
       "      <td>61433.500000</td>\n",
       "      <td>11260.000000</td>\n",
       "      <td>244.000000</td>\n",
       "      <td>0.750000</td>\n",
       "    </tr>\n",
       "    <tr>\n",
       "      <th>max</th>\n",
       "      <td>81911.000000</td>\n",
       "      <td>14987.000000</td>\n",
       "      <td>324.000000</td>\n",
       "      <td>1.000000</td>\n",
       "    </tr>\n",
       "  </tbody>\n",
       "</table>\n",
       "</div>"
      ],
      "text/plain": [
       "                 ID        UserID  DistanceTravelled  OverallScore\n",
       "count  81911.000000  81911.000000       81881.000000  81911.000000\n",
       "mean   40956.000000   7512.695694         162.406150      0.505622\n",
       "std    23645.813287   4326.868534          93.600229      0.288073\n",
       "min        1.000000      1.000000           1.000000      0.010000\n",
       "25%    20478.500000   3748.000000          81.000000      0.260000\n",
       "50%    40956.000000   7554.000000         162.000000      0.510000\n",
       "75%    61433.500000  11260.000000         244.000000      0.750000\n",
       "max    81911.000000  14987.000000         324.000000      1.000000"
      ]
     },
     "execution_count": 4,
     "metadata": {},
     "output_type": "execute_result"
    }
   ],
   "source": [
    "df.describe()"
   ]
  },
  {
   "cell_type": "markdown",
   "metadata": {},
   "source": [
    "- Here describe() method shows the statistical summary of the data, where again we can see in count DistanceTravelled has 81881 values.\n",
    "- The range of overall score is 0.0-1.0, so the maximum score a user can have is 1.0.\n",
    "- It show this data was collected from 14987 unique users. \n",
    "- Average score is 0.5"
   ]
  },
  {
   "cell_type": "markdown",
   "metadata": {},
   "source": [
    "#### Data Assumptions\n",
    "- Here we are assuming that the distance travelled is in Kms, since the app might have collected most of the data in Canada. In Canada distance is measured in Kms\n"
   ]
  },
  {
   "cell_type": "code",
   "execution_count": 5,
   "metadata": {},
   "outputs": [
    {
     "data": {
      "text/plain": [
       "14925"
      ]
     },
     "execution_count": 5,
     "metadata": {},
     "output_type": "execute_result"
    }
   ],
   "source": [
    "len(df.UserID.unique())"
   ]
  },
  {
   "cell_type": "code",
   "execution_count": 6,
   "metadata": {},
   "outputs": [
    {
     "data": {
      "text/plain": [
       "81911"
      ]
     },
     "execution_count": 6,
     "metadata": {},
     "output_type": "execute_result"
    }
   ],
   "source": [
    "len(df.ID.unique())"
   ]
  },
  {
   "cell_type": "code",
   "execution_count": 7,
   "metadata": {},
   "outputs": [
    {
     "data": {
      "text/plain": [
       "ID                                     1\n",
       "UserID                                 1\n",
       "DistanceTravelled                      1\n",
       "OverallScore                        0.01\n",
       "RegisteredOn         2019-04-14 00:00:00\n",
       "dtype: object"
      ]
     },
     "execution_count": 7,
     "metadata": {},
     "output_type": "execute_result"
    }
   ],
   "source": [
    "df.min()"
   ]
  },
  {
   "cell_type": "code",
   "execution_count": 8,
   "metadata": {},
   "outputs": [
    {
     "data": {
      "text/plain": [
       "ID                                 81911\n",
       "UserID                             14987\n",
       "DistanceTravelled                    324\n",
       "OverallScore                           1\n",
       "RegisteredOn         2020-02-01 00:00:00\n",
       "dtype: object"
      ]
     },
     "execution_count": 8,
     "metadata": {},
     "output_type": "execute_result"
    }
   ],
   "source": [
    "df.max()"
   ]
  },
  {
   "cell_type": "markdown",
   "metadata": {},
   "source": [
    "- we observe that there are 81911 total number of transactions recorded by the app\n",
    "- There are 14925 unique users\n",
    "- There are 81,911 unique transactions and this is the total number of transactions recorded by the app. Therefore, we confirm that ID is primary key.\n",
    "- Min values and Max values for all attributes of dataset can be observed from above\n",
    "- There are 30 null values in the the Distance Travelled column\n",
    "\n",
    "- RegisteredOn field gives us the insight as to when data was captured by the app. Also, the distance field suggests that gps of the mobile was used to keep track of distance by the app which was running in background on the mobile and it calculated the overall score of the trip. The id was automatically generated by the app, and userId is the unique id of the user so the app already had this information. The date and time were captured by the app automatically from the mobile device."
   ]
  },
  {
   "cell_type": "markdown",
   "metadata": {},
   "source": [
    "#### Further exploration Missing values\n",
    "Average distance travelled is 162.4 kms, but that might not be showing right value, since around 30 values are missing from this column which might have affected the mean. We can investigate further whether these values are missing from a single user or multiple users. "
   ]
  },
  {
   "cell_type": "code",
   "execution_count": 9,
   "metadata": {},
   "outputs": [
    {
     "data": {
      "text/plain": [
       "ID                    0\n",
       "UserID                0\n",
       "DistanceTravelled    30\n",
       "OverallScore          0\n",
       "RegisteredOn          0\n",
       "dtype: int64"
      ]
     },
     "execution_count": 9,
     "metadata": {},
     "output_type": "execute_result"
    }
   ],
   "source": [
    "df.isnull().sum()"
   ]
  },
  {
   "cell_type": "markdown",
   "metadata": {},
   "source": [
    "There are 30 values missing in 'DistanceTravelled'"
   ]
  },
  {
   "cell_type": "code",
   "execution_count": 10,
   "metadata": {},
   "outputs": [
    {
     "data": {
      "text/html": [
       "<div>\n",
       "<style scoped>\n",
       "    .dataframe tbody tr th:only-of-type {\n",
       "        vertical-align: middle;\n",
       "    }\n",
       "\n",
       "    .dataframe tbody tr th {\n",
       "        vertical-align: top;\n",
       "    }\n",
       "\n",
       "    .dataframe thead th {\n",
       "        text-align: right;\n",
       "    }\n",
       "</style>\n",
       "<table border=\"1\" class=\"dataframe\">\n",
       "  <thead>\n",
       "    <tr style=\"text-align: right;\">\n",
       "      <th></th>\n",
       "      <th>ID</th>\n",
       "      <th>UserID</th>\n",
       "      <th>DistanceTravelled</th>\n",
       "      <th>OverallScore</th>\n",
       "      <th>RegisteredOn</th>\n",
       "    </tr>\n",
       "  </thead>\n",
       "  <tbody>\n",
       "    <tr>\n",
       "      <th>7679</th>\n",
       "      <td>78035</td>\n",
       "      <td>1424</td>\n",
       "      <td>NaN</td>\n",
       "      <td>0.38</td>\n",
       "      <td>2019-11-02</td>\n",
       "    </tr>\n",
       "    <tr>\n",
       "      <th>7680</th>\n",
       "      <td>22634</td>\n",
       "      <td>1424</td>\n",
       "      <td>NaN</td>\n",
       "      <td>0.94</td>\n",
       "      <td>2019-11-03</td>\n",
       "    </tr>\n",
       "    <tr>\n",
       "      <th>7681</th>\n",
       "      <td>15138</td>\n",
       "      <td>1425</td>\n",
       "      <td>NaN</td>\n",
       "      <td>0.08</td>\n",
       "      <td>2019-07-02</td>\n",
       "    </tr>\n",
       "    <tr>\n",
       "      <th>10813</th>\n",
       "      <td>23005</td>\n",
       "      <td>1979</td>\n",
       "      <td>NaN</td>\n",
       "      <td>0.12</td>\n",
       "      <td>2019-08-17</td>\n",
       "    </tr>\n",
       "    <tr>\n",
       "      <th>10814</th>\n",
       "      <td>57305</td>\n",
       "      <td>1979</td>\n",
       "      <td>NaN</td>\n",
       "      <td>0.82</td>\n",
       "      <td>2019-11-19</td>\n",
       "    </tr>\n",
       "    <tr>\n",
       "      <th>10815</th>\n",
       "      <td>52693</td>\n",
       "      <td>1979</td>\n",
       "      <td>NaN</td>\n",
       "      <td>0.81</td>\n",
       "      <td>2019-12-08</td>\n",
       "    </tr>\n",
       "    <tr>\n",
       "      <th>18913</th>\n",
       "      <td>13925</td>\n",
       "      <td>3464</td>\n",
       "      <td>NaN</td>\n",
       "      <td>0.13</td>\n",
       "      <td>2020-01-25</td>\n",
       "    </tr>\n",
       "    <tr>\n",
       "      <th>18914</th>\n",
       "      <td>46814</td>\n",
       "      <td>3464</td>\n",
       "      <td>NaN</td>\n",
       "      <td>0.28</td>\n",
       "      <td>2020-02-01</td>\n",
       "    </tr>\n",
       "    <tr>\n",
       "      <th>18915</th>\n",
       "      <td>46434</td>\n",
       "      <td>3465</td>\n",
       "      <td>NaN</td>\n",
       "      <td>0.50</td>\n",
       "      <td>2019-06-23</td>\n",
       "    </tr>\n",
       "    <tr>\n",
       "      <th>18916</th>\n",
       "      <td>65796</td>\n",
       "      <td>3465</td>\n",
       "      <td>NaN</td>\n",
       "      <td>0.10</td>\n",
       "      <td>2019-06-30</td>\n",
       "    </tr>\n",
       "    <tr>\n",
       "      <th>18917</th>\n",
       "      <td>37547</td>\n",
       "      <td>3465</td>\n",
       "      <td>NaN</td>\n",
       "      <td>0.09</td>\n",
       "      <td>2019-08-03</td>\n",
       "    </tr>\n",
       "    <tr>\n",
       "      <th>18918</th>\n",
       "      <td>71721</td>\n",
       "      <td>3465</td>\n",
       "      <td>NaN</td>\n",
       "      <td>0.78</td>\n",
       "      <td>2019-08-16</td>\n",
       "    </tr>\n",
       "    <tr>\n",
       "      <th>18919</th>\n",
       "      <td>60755</td>\n",
       "      <td>3465</td>\n",
       "      <td>NaN</td>\n",
       "      <td>0.01</td>\n",
       "      <td>2019-09-28</td>\n",
       "    </tr>\n",
       "    <tr>\n",
       "      <th>18920</th>\n",
       "      <td>7099</td>\n",
       "      <td>3466</td>\n",
       "      <td>NaN</td>\n",
       "      <td>0.69</td>\n",
       "      <td>2019-07-16</td>\n",
       "    </tr>\n",
       "    <tr>\n",
       "      <th>18921</th>\n",
       "      <td>3923</td>\n",
       "      <td>3466</td>\n",
       "      <td>NaN</td>\n",
       "      <td>0.65</td>\n",
       "      <td>2019-09-25</td>\n",
       "    </tr>\n",
       "    <tr>\n",
       "      <th>18922</th>\n",
       "      <td>47761</td>\n",
       "      <td>3466</td>\n",
       "      <td>NaN</td>\n",
       "      <td>0.57</td>\n",
       "      <td>2019-12-19</td>\n",
       "    </tr>\n",
       "    <tr>\n",
       "      <th>18923</th>\n",
       "      <td>41202</td>\n",
       "      <td>3466</td>\n",
       "      <td>NaN</td>\n",
       "      <td>0.50</td>\n",
       "      <td>2020-01-01</td>\n",
       "    </tr>\n",
       "    <tr>\n",
       "      <th>18924</th>\n",
       "      <td>19177</td>\n",
       "      <td>3467</td>\n",
       "      <td>NaN</td>\n",
       "      <td>0.41</td>\n",
       "      <td>2019-07-28</td>\n",
       "    </tr>\n",
       "    <tr>\n",
       "      <th>18925</th>\n",
       "      <td>70680</td>\n",
       "      <td>3467</td>\n",
       "      <td>NaN</td>\n",
       "      <td>0.80</td>\n",
       "      <td>2019-11-25</td>\n",
       "    </tr>\n",
       "    <tr>\n",
       "      <th>33421</th>\n",
       "      <td>44385</td>\n",
       "      <td>6154</td>\n",
       "      <td>NaN</td>\n",
       "      <td>0.12</td>\n",
       "      <td>2019-08-09</td>\n",
       "    </tr>\n",
       "    <tr>\n",
       "      <th>33422</th>\n",
       "      <td>6483</td>\n",
       "      <td>6154</td>\n",
       "      <td>NaN</td>\n",
       "      <td>0.14</td>\n",
       "      <td>2019-09-11</td>\n",
       "    </tr>\n",
       "    <tr>\n",
       "      <th>33423</th>\n",
       "      <td>81862</td>\n",
       "      <td>6154</td>\n",
       "      <td>NaN</td>\n",
       "      <td>0.66</td>\n",
       "      <td>2020-01-05</td>\n",
       "    </tr>\n",
       "    <tr>\n",
       "      <th>33424</th>\n",
       "      <td>11498</td>\n",
       "      <td>6155</td>\n",
       "      <td>NaN</td>\n",
       "      <td>0.40</td>\n",
       "      <td>2019-08-28</td>\n",
       "    </tr>\n",
       "    <tr>\n",
       "      <th>33425</th>\n",
       "      <td>61399</td>\n",
       "      <td>6155</td>\n",
       "      <td>NaN</td>\n",
       "      <td>0.96</td>\n",
       "      <td>2019-10-05</td>\n",
       "    </tr>\n",
       "    <tr>\n",
       "      <th>33426</th>\n",
       "      <td>32628</td>\n",
       "      <td>6155</td>\n",
       "      <td>NaN</td>\n",
       "      <td>0.61</td>\n",
       "      <td>2019-10-12</td>\n",
       "    </tr>\n",
       "    <tr>\n",
       "      <th>63135</th>\n",
       "      <td>24076</td>\n",
       "      <td>11567</td>\n",
       "      <td>NaN</td>\n",
       "      <td>0.30</td>\n",
       "      <td>2019-05-16</td>\n",
       "    </tr>\n",
       "    <tr>\n",
       "      <th>63136</th>\n",
       "      <td>36711</td>\n",
       "      <td>11567</td>\n",
       "      <td>NaN</td>\n",
       "      <td>0.48</td>\n",
       "      <td>2019-08-04</td>\n",
       "    </tr>\n",
       "    <tr>\n",
       "      <th>63137</th>\n",
       "      <td>14782</td>\n",
       "      <td>11567</td>\n",
       "      <td>NaN</td>\n",
       "      <td>0.61</td>\n",
       "      <td>2019-09-23</td>\n",
       "    </tr>\n",
       "    <tr>\n",
       "      <th>63138</th>\n",
       "      <td>43436</td>\n",
       "      <td>11567</td>\n",
       "      <td>NaN</td>\n",
       "      <td>0.69</td>\n",
       "      <td>2019-10-22</td>\n",
       "    </tr>\n",
       "    <tr>\n",
       "      <th>63139</th>\n",
       "      <td>40784</td>\n",
       "      <td>11567</td>\n",
       "      <td>NaN</td>\n",
       "      <td>0.58</td>\n",
       "      <td>2019-11-02</td>\n",
       "    </tr>\n",
       "  </tbody>\n",
       "</table>\n",
       "</div>"
      ],
      "text/plain": [
       "          ID  UserID  DistanceTravelled  OverallScore RegisteredOn\n",
       "7679   78035    1424                NaN          0.38   2019-11-02\n",
       "7680   22634    1424                NaN          0.94   2019-11-03\n",
       "7681   15138    1425                NaN          0.08   2019-07-02\n",
       "10813  23005    1979                NaN          0.12   2019-08-17\n",
       "10814  57305    1979                NaN          0.82   2019-11-19\n",
       "10815  52693    1979                NaN          0.81   2019-12-08\n",
       "18913  13925    3464                NaN          0.13   2020-01-25\n",
       "18914  46814    3464                NaN          0.28   2020-02-01\n",
       "18915  46434    3465                NaN          0.50   2019-06-23\n",
       "18916  65796    3465                NaN          0.10   2019-06-30\n",
       "18917  37547    3465                NaN          0.09   2019-08-03\n",
       "18918  71721    3465                NaN          0.78   2019-08-16\n",
       "18919  60755    3465                NaN          0.01   2019-09-28\n",
       "18920   7099    3466                NaN          0.69   2019-07-16\n",
       "18921   3923    3466                NaN          0.65   2019-09-25\n",
       "18922  47761    3466                NaN          0.57   2019-12-19\n",
       "18923  41202    3466                NaN          0.50   2020-01-01\n",
       "18924  19177    3467                NaN          0.41   2019-07-28\n",
       "18925  70680    3467                NaN          0.80   2019-11-25\n",
       "33421  44385    6154                NaN          0.12   2019-08-09\n",
       "33422   6483    6154                NaN          0.14   2019-09-11\n",
       "33423  81862    6154                NaN          0.66   2020-01-05\n",
       "33424  11498    6155                NaN          0.40   2019-08-28\n",
       "33425  61399    6155                NaN          0.96   2019-10-05\n",
       "33426  32628    6155                NaN          0.61   2019-10-12\n",
       "63135  24076   11567                NaN          0.30   2019-05-16\n",
       "63136  36711   11567                NaN          0.48   2019-08-04\n",
       "63137  14782   11567                NaN          0.61   2019-09-23\n",
       "63138  43436   11567                NaN          0.69   2019-10-22\n",
       "63139  40784   11567                NaN          0.58   2019-11-02"
      ]
     },
     "execution_count": 10,
     "metadata": {},
     "output_type": "execute_result"
    }
   ],
   "source": [
    "df[df['DistanceTravelled'].isnull()]"
   ]
  },
  {
   "cell_type": "markdown",
   "metadata": {},
   "source": [
    "**Just looking at the data, we could see there are only few userIDs for whom the distance travelled values are missing. There could be various reasons for that. One of the reasons could be the app wasn't working properly on their phones or they might not have on their GPS so the app couldn't track the distance.**"
   ]
  },
  {
   "cell_type": "markdown",
   "metadata": {},
   "source": [
    "**Explore how many unique users had this data missing**"
   ]
  },
  {
   "cell_type": "code",
   "execution_count": 11,
   "metadata": {},
   "outputs": [
    {
     "data": {
      "text/plain": [
       "10"
      ]
     },
     "execution_count": 11,
     "metadata": {},
     "output_type": "execute_result"
    }
   ],
   "source": [
    "len(df[df['DistanceTravelled'].isnull()].UserID.unique())"
   ]
  },
  {
   "cell_type": "markdown",
   "metadata": {},
   "source": [
    "There are 10 unique users for whom distancetravelled information was missing on few days. **Lets explore further which user is missing this information on how many days.** Also every user is missing this information on different dates, so we can't say that this happened on particular date and there is some correlation between date and missing information. "
   ]
  },
  {
   "cell_type": "code",
   "execution_count": 12,
   "metadata": {},
   "outputs": [
    {
     "data": {
      "text/html": [
       "<div>\n",
       "<style scoped>\n",
       "    .dataframe tbody tr th:only-of-type {\n",
       "        vertical-align: middle;\n",
       "    }\n",
       "\n",
       "    .dataframe tbody tr th {\n",
       "        vertical-align: top;\n",
       "    }\n",
       "\n",
       "    .dataframe thead th {\n",
       "        text-align: right;\n",
       "    }\n",
       "</style>\n",
       "<table border=\"1\" class=\"dataframe\">\n",
       "  <thead>\n",
       "    <tr style=\"text-align: right;\">\n",
       "      <th></th>\n",
       "      <th>ID</th>\n",
       "      <th>DistanceTravelled</th>\n",
       "      <th>OverallScore</th>\n",
       "      <th>RegisteredOn</th>\n",
       "    </tr>\n",
       "    <tr>\n",
       "      <th>UserID</th>\n",
       "      <th></th>\n",
       "      <th></th>\n",
       "      <th></th>\n",
       "      <th></th>\n",
       "    </tr>\n",
       "  </thead>\n",
       "  <tbody>\n",
       "    <tr>\n",
       "      <th>1424</th>\n",
       "      <td>2</td>\n",
       "      <td>0</td>\n",
       "      <td>2</td>\n",
       "      <td>2</td>\n",
       "    </tr>\n",
       "    <tr>\n",
       "      <th>1425</th>\n",
       "      <td>1</td>\n",
       "      <td>0</td>\n",
       "      <td>1</td>\n",
       "      <td>1</td>\n",
       "    </tr>\n",
       "    <tr>\n",
       "      <th>1979</th>\n",
       "      <td>3</td>\n",
       "      <td>0</td>\n",
       "      <td>3</td>\n",
       "      <td>3</td>\n",
       "    </tr>\n",
       "    <tr>\n",
       "      <th>3464</th>\n",
       "      <td>2</td>\n",
       "      <td>0</td>\n",
       "      <td>2</td>\n",
       "      <td>2</td>\n",
       "    </tr>\n",
       "    <tr>\n",
       "      <th>3465</th>\n",
       "      <td>5</td>\n",
       "      <td>0</td>\n",
       "      <td>5</td>\n",
       "      <td>5</td>\n",
       "    </tr>\n",
       "    <tr>\n",
       "      <th>3466</th>\n",
       "      <td>4</td>\n",
       "      <td>0</td>\n",
       "      <td>4</td>\n",
       "      <td>4</td>\n",
       "    </tr>\n",
       "    <tr>\n",
       "      <th>3467</th>\n",
       "      <td>2</td>\n",
       "      <td>0</td>\n",
       "      <td>2</td>\n",
       "      <td>2</td>\n",
       "    </tr>\n",
       "    <tr>\n",
       "      <th>6154</th>\n",
       "      <td>3</td>\n",
       "      <td>0</td>\n",
       "      <td>3</td>\n",
       "      <td>3</td>\n",
       "    </tr>\n",
       "    <tr>\n",
       "      <th>6155</th>\n",
       "      <td>3</td>\n",
       "      <td>0</td>\n",
       "      <td>3</td>\n",
       "      <td>3</td>\n",
       "    </tr>\n",
       "    <tr>\n",
       "      <th>11567</th>\n",
       "      <td>5</td>\n",
       "      <td>0</td>\n",
       "      <td>5</td>\n",
       "      <td>5</td>\n",
       "    </tr>\n",
       "  </tbody>\n",
       "</table>\n",
       "</div>"
      ],
      "text/plain": [
       "        ID  DistanceTravelled  OverallScore  RegisteredOn\n",
       "UserID                                                   \n",
       "1424     2                  0             2             2\n",
       "1425     1                  0             1             1\n",
       "1979     3                  0             3             3\n",
       "3464     2                  0             2             2\n",
       "3465     5                  0             5             5\n",
       "3466     4                  0             4             4\n",
       "3467     2                  0             2             2\n",
       "6154     3                  0             3             3\n",
       "6155     3                  0             3             3\n",
       "11567    5                  0             5             5"
      ]
     },
     "execution_count": 12,
     "metadata": {},
     "output_type": "execute_result"
    }
   ],
   "source": [
    "df[df['DistanceTravelled'].isnull()].groupby('UserID').count()\n"
   ]
  },
  {
   "cell_type": "markdown",
   "metadata": {},
   "source": [
    "As we can see here mostly users are missing this information on 2-3 days only one user with userId 11567 is missing this on 5 days. So we can see did this user faced any technical information or reported glitch on these days or is it just coincidence that he/she might have not on her GPS on these days. "
   ]
  },
  {
   "cell_type": "code",
   "execution_count": 13,
   "metadata": {},
   "outputs": [
    {
     "data": {
      "text/plain": [
       "(65.6, 130.2]     16552\n",
       "(259.4, 324.0]    16462\n",
       "(0.676, 65.6]     16400\n",
       "(194.8, 259.4]    16357\n",
       "(130.2, 194.8]    16110\n",
       "Name: DistanceTravelled, dtype: int64"
      ]
     },
     "execution_count": 13,
     "metadata": {},
     "output_type": "execute_result"
    }
   ],
   "source": [
    "df['DistanceTravelled'].value_counts(bins=5)"
   ]
  },
  {
   "cell_type": "code",
   "execution_count": 14,
   "metadata": {},
   "outputs": [
    {
     "data": {
      "text/plain": [
       "Text(0, 0.5, 'Count')"
      ]
     },
     "execution_count": 14,
     "metadata": {},
     "output_type": "execute_result"
    },
    {
     "data": {
      "image/png": "[encoded data removed]",
      "text/plain": [
       "<Figure size 432x288 with 1 Axes>"
      ]
     },
     "metadata": {
      "needs_background": "light"
     },
     "output_type": "display_data"
    }
   ],
   "source": [
    "df['DistanceTravelled'].value_counts(bins=5).plot.bar()\n",
    "plt.title('Distance Travelled in Kms')\n",
    "plt.xlabel('Distance Bins')\n",
    "plt.ylabel('Count')\n"
   ]
  },
  {
   "cell_type": "code",
   "execution_count": 15,
   "metadata": {},
   "outputs": [
    {
     "data": {
      "text/plain": [
       "(0.208, 0.406]      16524\n",
       "(0.604, 0.802]      16441\n",
       "(0.406, 0.604]      16425\n",
       "(0.802, 1.0]        16333\n",
       "(0.00801, 0.208]    16188\n",
       "Name: OverallScore, dtype: int64"
      ]
     },
     "execution_count": 15,
     "metadata": {},
     "output_type": "execute_result"
    }
   ],
   "source": [
    "df['OverallScore'].value_counts(bins=5)"
   ]
  },
  {
   "cell_type": "code",
   "execution_count": 16,
   "metadata": {},
   "outputs": [
    {
     "data": {
      "text/plain": [
       "Text(0, 0.5, 'Count')"
      ]
     },
     "execution_count": 16,
     "metadata": {},
     "output_type": "execute_result"
    },
    {
     "data": {
      "image/png": "[encoded data removed]",
      "text/plain": [
       "<Figure size 432x288 with 1 Axes>"
      ]
     },
     "metadata": {
      "needs_background": "light"
     },
     "output_type": "display_data"
    }
   ],
   "source": [
    "df['OverallScore'].value_counts(bins=5).plot.bar()\n",
    "plt.title('Overall Score')\n",
    "plt.xlabel('OverallScore Bins')\n",
    "plt.ylabel('Count')"
   ]
  },
  {
   "cell_type": "markdown",
   "metadata": {},
   "source": [
    "### Part-2 Relationships between UserID systems"
   ]
  },
  {
   "cell_type": "code",
   "execution_count": 17,
   "metadata": {},
   "outputs": [],
   "source": [
    "df_userid_sys=pd.ExcelFile('Analyst Technical Test v1.2 (1).xlsx').parse('User Groups')"
   ]
  },
  {
   "cell_type": "code",
   "execution_count": 18,
   "metadata": {},
   "outputs": [
    {
     "name": "stdout",
     "output_type": "stream",
     "text": [
      "<class 'pandas.core.frame.DataFrame'>\n",
      "RangeIndex: 15000 entries, 0 to 14999\n",
      "Data columns (total 7 columns):\n",
      "UserID_System1    14925 non-null float64\n",
      "UserID_System2    15000 non-null int64\n",
      "UserID_System3    14422 non-null float64\n",
      "UserID_System4    2664 non-null float64\n",
      "Unnamed: 4        0 non-null float64\n",
      "Unnamed: 5        0 non-null float64\n",
      "Unnamed: 6        1 non-null float64\n",
      "dtypes: float64(6), int64(1)\n",
      "memory usage: 820.4 KB\n"
     ]
    }
   ],
   "source": [
    "df_userid_sys.info()"
   ]
  },
  {
   "cell_type": "code",
   "execution_count": 19,
   "metadata": {},
   "outputs": [],
   "source": [
    "df_userid_sys=df_userid_sys[['UserID_System1','UserID_System2','UserID_System3','UserID_System4']]"
   ]
  },
  {
   "cell_type": "code",
   "execution_count": 20,
   "metadata": {},
   "outputs": [
    {
     "name": "stdout",
     "output_type": "stream",
     "text": [
      "<class 'pandas.core.frame.DataFrame'>\n",
      "RangeIndex: 15000 entries, 0 to 14999\n",
      "Data columns (total 4 columns):\n",
      "UserID_System1    14925 non-null float64\n",
      "UserID_System2    15000 non-null int64\n",
      "UserID_System3    14422 non-null float64\n",
      "UserID_System4    2664 non-null float64\n",
      "dtypes: float64(3), int64(1)\n",
      "memory usage: 468.8 KB\n"
     ]
    }
   ],
   "source": [
    "df_userid_sys.info()"
   ]
  },
  {
   "cell_type": "code",
   "execution_count": 21,
   "metadata": {},
   "outputs": [
    {
     "data": {
      "text/html": [
       "<div>\n",
       "<style scoped>\n",
       "    .dataframe tbody tr th:only-of-type {\n",
       "        vertical-align: middle;\n",
       "    }\n",
       "\n",
       "    .dataframe tbody tr th {\n",
       "        vertical-align: top;\n",
       "    }\n",
       "\n",
       "    .dataframe thead th {\n",
       "        text-align: right;\n",
       "    }\n",
       "</style>\n",
       "<table border=\"1\" class=\"dataframe\">\n",
       "  <thead>\n",
       "    <tr style=\"text-align: right;\">\n",
       "      <th></th>\n",
       "      <th>UserID_System1</th>\n",
       "      <th>UserID_System2</th>\n",
       "      <th>UserID_System3</th>\n",
       "      <th>UserID_System4</th>\n",
       "    </tr>\n",
       "  </thead>\n",
       "  <tbody>\n",
       "    <tr>\n",
       "      <th>count</th>\n",
       "      <td>14925.000000</td>\n",
       "      <td>15000.000000</td>\n",
       "      <td>14422.000000</td>\n",
       "      <td>2664.000000</td>\n",
       "    </tr>\n",
       "    <tr>\n",
       "      <th>mean</th>\n",
       "      <td>7491.153434</td>\n",
       "      <td>7500.500000</td>\n",
       "      <td>10488.770628</td>\n",
       "      <td>19576.500000</td>\n",
       "    </tr>\n",
       "    <tr>\n",
       "      <th>std</th>\n",
       "      <td>4328.146073</td>\n",
       "      <td>4330.271354</td>\n",
       "      <td>6779.571079</td>\n",
       "      <td>769.174883</td>\n",
       "    </tr>\n",
       "    <tr>\n",
       "      <th>min</th>\n",
       "      <td>1.000000</td>\n",
       "      <td>1.000000</td>\n",
       "      <td>1.000000</td>\n",
       "      <td>18245.000000</td>\n",
       "    </tr>\n",
       "    <tr>\n",
       "      <th>25%</th>\n",
       "      <td>3742.000000</td>\n",
       "      <td>3750.750000</td>\n",
       "      <td>5066.250000</td>\n",
       "      <td>18910.750000</td>\n",
       "    </tr>\n",
       "    <tr>\n",
       "      <th>50%</th>\n",
       "      <td>7491.000000</td>\n",
       "      <td>7500.500000</td>\n",
       "      <td>8671.500000</td>\n",
       "      <td>19576.500000</td>\n",
       "    </tr>\n",
       "    <tr>\n",
       "      <th>75%</th>\n",
       "      <td>11240.000000</td>\n",
       "      <td>11250.250000</td>\n",
       "      <td>17302.750000</td>\n",
       "      <td>20242.250000</td>\n",
       "    </tr>\n",
       "    <tr>\n",
       "      <th>max</th>\n",
       "      <td>14987.000000</td>\n",
       "      <td>15000.000000</td>\n",
       "      <td>20908.000000</td>\n",
       "      <td>20908.000000</td>\n",
       "    </tr>\n",
       "  </tbody>\n",
       "</table>\n",
       "</div>"
      ],
      "text/plain": [
       "       UserID_System1  UserID_System2  UserID_System3  UserID_System4\n",
       "count    14925.000000    15000.000000    14422.000000     2664.000000\n",
       "mean      7491.153434     7500.500000    10488.770628    19576.500000\n",
       "std       4328.146073     4330.271354     6779.571079      769.174883\n",
       "min          1.000000        1.000000        1.000000    18245.000000\n",
       "25%       3742.000000     3750.750000     5066.250000    18910.750000\n",
       "50%       7491.000000     7500.500000     8671.500000    19576.500000\n",
       "75%      11240.000000    11250.250000    17302.750000    20242.250000\n",
       "max      14987.000000    15000.000000    20908.000000    20908.000000"
      ]
     },
     "execution_count": 21,
     "metadata": {},
     "output_type": "execute_result"
    }
   ],
   "source": [
    "df_userid_sys.describe()"
   ]
  },
  {
   "cell_type": "code",
   "execution_count": null,
   "metadata": {},
   "outputs": [],
   "source": []
  },
  {
   "cell_type": "markdown",
   "metadata": {},
   "source": [
    "![UserID_System](img/0.jpg)"
   ]
  },
  {
   "cell_type": "markdown",
   "metadata": {},
   "source": [
    "![UserID_System](img/1.jpg)"
   ]
  },
  {
   "cell_type": "markdown",
   "metadata": {},
   "source": [
    "### Business Questions"
   ]
  },
  {
   "cell_type": "markdown",
   "metadata": {},
   "source": [
    "#### Dropping the missing values \n",
    "- For purposes of this excercise we are dropping the null values from the dataset. To handle null values we can either drop them or replace by mean/median/mode by checking the histogram but since we have ample amount of data and a very small number of missing values. We can safely drop them to avoid any undue impact"
   ]
  },
  {
   "cell_type": "code",
   "execution_count": 22,
   "metadata": {},
   "outputs": [],
   "source": [
    "df.dropna(inplace=True) "
   ]
  },
  {
   "cell_type": "code",
   "execution_count": 23,
   "metadata": {},
   "outputs": [
    {
     "data": {
      "text/plain": [
       "ID                   0\n",
       "UserID               0\n",
       "DistanceTravelled    0\n",
       "OverallScore         0\n",
       "RegisteredOn         0\n",
       "dtype: int64"
      ]
     },
     "execution_count": 23,
     "metadata": {},
     "output_type": "execute_result"
    }
   ],
   "source": [
    "df.isnull().sum()"
   ]
  },
  {
   "cell_type": "markdown",
   "metadata": {},
   "source": [
    "As we can see there are no missing values in the data"
   ]
  },
  {
   "cell_type": "markdown",
   "metadata": {},
   "source": [
    "#### Do longer trips have lower scores?"
   ]
  },
  {
   "cell_type": "code",
   "execution_count": 24,
   "metadata": {},
   "outputs": [
    {
     "data": {
      "text/plain": [
       "Text(0.5, 1.0, 'Overall Score over Distance Travelled')"
      ]
     },
     "execution_count": 24,
     "metadata": {},
     "output_type": "execute_result"
    },
    {
     "data": {
      "image/png": "[encoded data removed]",
      "text/plain": [
       "<Figure size 432x288 with 1 Axes>"
      ]
     },
     "metadata": {
      "needs_background": "light"
     },
     "output_type": "display_data"
    }
   ],
   "source": [
    "dfSample = df.sample(1000, random_state=1)\n",
    "ax= dfSample.plot.scatter('DistanceTravelled', 'OverallScore')\n",
    "ax.xaxis.set_ticks(np.arange(0, 400, 100))\n",
    "plt.title(\"Overall Score over Distance Travelled\")"
   ]
  },
  {
   "cell_type": "markdown",
   "metadata": {},
   "source": [
    "Since we can't plot all 18000 points, we can take sample  of that data to see the distribution\n",
    "As we can see here, we dont see any clear correction between Overall Score and Distance travelled. Lets confirm this with statistics by finding pearson correlation coefficient"
   ]
  },
  {
   "cell_type": "code",
   "execution_count": 25,
   "metadata": {},
   "outputs": [
    {
     "data": {
      "text/html": [
       "<div>\n",
       "<style scoped>\n",
       "    .dataframe tbody tr th:only-of-type {\n",
       "        vertical-align: middle;\n",
       "    }\n",
       "\n",
       "    .dataframe tbody tr th {\n",
       "        vertical-align: top;\n",
       "    }\n",
       "\n",
       "    .dataframe thead th {\n",
       "        text-align: right;\n",
       "    }\n",
       "</style>\n",
       "<table border=\"1\" class=\"dataframe\">\n",
       "  <thead>\n",
       "    <tr style=\"text-align: right;\">\n",
       "      <th></th>\n",
       "      <th>ID</th>\n",
       "      <th>UserID</th>\n",
       "      <th>DistanceTravelled</th>\n",
       "      <th>OverallScore</th>\n",
       "    </tr>\n",
       "  </thead>\n",
       "  <tbody>\n",
       "    <tr>\n",
       "      <th>ID</th>\n",
       "      <td>1.000000</td>\n",
       "      <td>0.004226</td>\n",
       "      <td>-0.001550</td>\n",
       "      <td>-0.003167</td>\n",
       "    </tr>\n",
       "    <tr>\n",
       "      <th>UserID</th>\n",
       "      <td>0.004226</td>\n",
       "      <td>1.000000</td>\n",
       "      <td>0.000890</td>\n",
       "      <td>0.002107</td>\n",
       "    </tr>\n",
       "    <tr>\n",
       "      <th>DistanceTravelled</th>\n",
       "      <td>-0.001550</td>\n",
       "      <td>0.000890</td>\n",
       "      <td>1.000000</td>\n",
       "      <td>0.009814</td>\n",
       "    </tr>\n",
       "    <tr>\n",
       "      <th>OverallScore</th>\n",
       "      <td>-0.003167</td>\n",
       "      <td>0.002107</td>\n",
       "      <td>0.009814</td>\n",
       "      <td>1.000000</td>\n",
       "    </tr>\n",
       "  </tbody>\n",
       "</table>\n",
       "</div>"
      ],
      "text/plain": [
       "                         ID    UserID  DistanceTravelled  OverallScore\n",
       "ID                 1.000000  0.004226          -0.001550     -0.003167\n",
       "UserID             0.004226  1.000000           0.000890      0.002107\n",
       "DistanceTravelled -0.001550  0.000890           1.000000      0.009814\n",
       "OverallScore      -0.003167  0.002107           0.009814      1.000000"
      ]
     },
     "execution_count": 25,
     "metadata": {},
     "output_type": "execute_result"
    }
   ],
   "source": [
    "df.corr()"
   ]
  },
  {
   "cell_type": "markdown",
   "metadata": {},
   "source": [
    "The correlation between DistanceTravelled and OverallScore is 0.00984, which show they has very weak positive correlation. So it's not necessary that if some travels more distance will have more score, or less score."
   ]
  },
  {
   "cell_type": "code",
   "execution_count": 26,
   "metadata": {},
   "outputs": [
    {
     "data": {
      "text/html": [
       "<div>\n",
       "<style scoped>\n",
       "    .dataframe tbody tr th:only-of-type {\n",
       "        vertical-align: middle;\n",
       "    }\n",
       "\n",
       "    .dataframe tbody tr th {\n",
       "        vertical-align: top;\n",
       "    }\n",
       "\n",
       "    .dataframe thead th {\n",
       "        text-align: right;\n",
       "    }\n",
       "</style>\n",
       "<table border=\"1\" class=\"dataframe\">\n",
       "  <thead>\n",
       "    <tr style=\"text-align: right;\">\n",
       "      <th></th>\n",
       "      <th>DistanceTravelled</th>\n",
       "      <th>OverallScore</th>\n",
       "    </tr>\n",
       "  </thead>\n",
       "  <tbody>\n",
       "    <tr>\n",
       "      <th>74387</th>\n",
       "      <td>324.0</td>\n",
       "      <td>0.76</td>\n",
       "    </tr>\n",
       "    <tr>\n",
       "      <th>43637</th>\n",
       "      <td>324.0</td>\n",
       "      <td>0.05</td>\n",
       "    </tr>\n",
       "    <tr>\n",
       "      <th>50611</th>\n",
       "      <td>324.0</td>\n",
       "      <td>0.92</td>\n",
       "    </tr>\n",
       "    <tr>\n",
       "      <th>3708</th>\n",
       "      <td>324.0</td>\n",
       "      <td>0.30</td>\n",
       "    </tr>\n",
       "    <tr>\n",
       "      <th>55747</th>\n",
       "      <td>324.0</td>\n",
       "      <td>0.19</td>\n",
       "    </tr>\n",
       "    <tr>\n",
       "      <th>73271</th>\n",
       "      <td>324.0</td>\n",
       "      <td>0.30</td>\n",
       "    </tr>\n",
       "    <tr>\n",
       "      <th>24345</th>\n",
       "      <td>324.0</td>\n",
       "      <td>0.55</td>\n",
       "    </tr>\n",
       "    <tr>\n",
       "      <th>24289</th>\n",
       "      <td>324.0</td>\n",
       "      <td>0.22</td>\n",
       "    </tr>\n",
       "    <tr>\n",
       "      <th>36417</th>\n",
       "      <td>324.0</td>\n",
       "      <td>0.69</td>\n",
       "    </tr>\n",
       "    <tr>\n",
       "      <th>40212</th>\n",
       "      <td>324.0</td>\n",
       "      <td>0.41</td>\n",
       "    </tr>\n",
       "    <tr>\n",
       "      <th>4395</th>\n",
       "      <td>324.0</td>\n",
       "      <td>0.42</td>\n",
       "    </tr>\n",
       "    <tr>\n",
       "      <th>7585</th>\n",
       "      <td>324.0</td>\n",
       "      <td>0.78</td>\n",
       "    </tr>\n",
       "    <tr>\n",
       "      <th>65188</th>\n",
       "      <td>324.0</td>\n",
       "      <td>0.80</td>\n",
       "    </tr>\n",
       "    <tr>\n",
       "      <th>73241</th>\n",
       "      <td>324.0</td>\n",
       "      <td>0.54</td>\n",
       "    </tr>\n",
       "    <tr>\n",
       "      <th>59450</th>\n",
       "      <td>324.0</td>\n",
       "      <td>0.91</td>\n",
       "    </tr>\n",
       "    <tr>\n",
       "      <th>77802</th>\n",
       "      <td>324.0</td>\n",
       "      <td>0.50</td>\n",
       "    </tr>\n",
       "    <tr>\n",
       "      <th>49156</th>\n",
       "      <td>324.0</td>\n",
       "      <td>0.99</td>\n",
       "    </tr>\n",
       "    <tr>\n",
       "      <th>1832</th>\n",
       "      <td>324.0</td>\n",
       "      <td>0.03</td>\n",
       "    </tr>\n",
       "    <tr>\n",
       "      <th>73239</th>\n",
       "      <td>324.0</td>\n",
       "      <td>0.89</td>\n",
       "    </tr>\n",
       "    <tr>\n",
       "      <th>15465</th>\n",
       "      <td>324.0</td>\n",
       "      <td>0.63</td>\n",
       "    </tr>\n",
       "    <tr>\n",
       "      <th>33620</th>\n",
       "      <td>324.0</td>\n",
       "      <td>0.37</td>\n",
       "    </tr>\n",
       "    <tr>\n",
       "      <th>37920</th>\n",
       "      <td>324.0</td>\n",
       "      <td>0.23</td>\n",
       "    </tr>\n",
       "    <tr>\n",
       "      <th>15335</th>\n",
       "      <td>324.0</td>\n",
       "      <td>0.96</td>\n",
       "    </tr>\n",
       "    <tr>\n",
       "      <th>79517</th>\n",
       "      <td>324.0</td>\n",
       "      <td>0.83</td>\n",
       "    </tr>\n",
       "    <tr>\n",
       "      <th>74369</th>\n",
       "      <td>324.0</td>\n",
       "      <td>0.29</td>\n",
       "    </tr>\n",
       "    <tr>\n",
       "      <th>24412</th>\n",
       "      <td>324.0</td>\n",
       "      <td>0.35</td>\n",
       "    </tr>\n",
       "    <tr>\n",
       "      <th>69984</th>\n",
       "      <td>324.0</td>\n",
       "      <td>0.19</td>\n",
       "    </tr>\n",
       "    <tr>\n",
       "      <th>55537</th>\n",
       "      <td>324.0</td>\n",
       "      <td>0.38</td>\n",
       "    </tr>\n",
       "    <tr>\n",
       "      <th>62856</th>\n",
       "      <td>324.0</td>\n",
       "      <td>0.56</td>\n",
       "    </tr>\n",
       "    <tr>\n",
       "      <th>81547</th>\n",
       "      <td>324.0</td>\n",
       "      <td>0.78</td>\n",
       "    </tr>\n",
       "    <tr>\n",
       "      <th>...</th>\n",
       "      <td>...</td>\n",
       "      <td>...</td>\n",
       "    </tr>\n",
       "    <tr>\n",
       "      <th>63478</th>\n",
       "      <td>1.0</td>\n",
       "      <td>0.91</td>\n",
       "    </tr>\n",
       "    <tr>\n",
       "      <th>33415</th>\n",
       "      <td>1.0</td>\n",
       "      <td>0.39</td>\n",
       "    </tr>\n",
       "    <tr>\n",
       "      <th>72219</th>\n",
       "      <td>1.0</td>\n",
       "      <td>0.42</td>\n",
       "    </tr>\n",
       "    <tr>\n",
       "      <th>62930</th>\n",
       "      <td>1.0</td>\n",
       "      <td>0.54</td>\n",
       "    </tr>\n",
       "    <tr>\n",
       "      <th>25042</th>\n",
       "      <td>1.0</td>\n",
       "      <td>0.07</td>\n",
       "    </tr>\n",
       "    <tr>\n",
       "      <th>80976</th>\n",
       "      <td>1.0</td>\n",
       "      <td>0.48</td>\n",
       "    </tr>\n",
       "    <tr>\n",
       "      <th>16540</th>\n",
       "      <td>1.0</td>\n",
       "      <td>0.71</td>\n",
       "    </tr>\n",
       "    <tr>\n",
       "      <th>12854</th>\n",
       "      <td>1.0</td>\n",
       "      <td>0.34</td>\n",
       "    </tr>\n",
       "    <tr>\n",
       "      <th>12890</th>\n",
       "      <td>1.0</td>\n",
       "      <td>0.84</td>\n",
       "    </tr>\n",
       "    <tr>\n",
       "      <th>75550</th>\n",
       "      <td>1.0</td>\n",
       "      <td>0.96</td>\n",
       "    </tr>\n",
       "    <tr>\n",
       "      <th>21126</th>\n",
       "      <td>1.0</td>\n",
       "      <td>0.48</td>\n",
       "    </tr>\n",
       "    <tr>\n",
       "      <th>6719</th>\n",
       "      <td>1.0</td>\n",
       "      <td>0.97</td>\n",
       "    </tr>\n",
       "    <tr>\n",
       "      <th>20951</th>\n",
       "      <td>1.0</td>\n",
       "      <td>0.79</td>\n",
       "    </tr>\n",
       "    <tr>\n",
       "      <th>52797</th>\n",
       "      <td>1.0</td>\n",
       "      <td>0.88</td>\n",
       "    </tr>\n",
       "    <tr>\n",
       "      <th>24135</th>\n",
       "      <td>1.0</td>\n",
       "      <td>0.76</td>\n",
       "    </tr>\n",
       "    <tr>\n",
       "      <th>62635</th>\n",
       "      <td>1.0</td>\n",
       "      <td>0.44</td>\n",
       "    </tr>\n",
       "    <tr>\n",
       "      <th>52702</th>\n",
       "      <td>1.0</td>\n",
       "      <td>0.74</td>\n",
       "    </tr>\n",
       "    <tr>\n",
       "      <th>62708</th>\n",
       "      <td>1.0</td>\n",
       "      <td>0.68</td>\n",
       "    </tr>\n",
       "    <tr>\n",
       "      <th>899</th>\n",
       "      <td>1.0</td>\n",
       "      <td>0.63</td>\n",
       "    </tr>\n",
       "    <tr>\n",
       "      <th>75936</th>\n",
       "      <td>1.0</td>\n",
       "      <td>0.86</td>\n",
       "    </tr>\n",
       "    <tr>\n",
       "      <th>20775</th>\n",
       "      <td>1.0</td>\n",
       "      <td>0.37</td>\n",
       "    </tr>\n",
       "    <tr>\n",
       "      <th>76001</th>\n",
       "      <td>1.0</td>\n",
       "      <td>0.70</td>\n",
       "    </tr>\n",
       "    <tr>\n",
       "      <th>76016</th>\n",
       "      <td>1.0</td>\n",
       "      <td>0.82</td>\n",
       "    </tr>\n",
       "    <tr>\n",
       "      <th>20684</th>\n",
       "      <td>1.0</td>\n",
       "      <td>0.97</td>\n",
       "    </tr>\n",
       "    <tr>\n",
       "      <th>76145</th>\n",
       "      <td>1.0</td>\n",
       "      <td>0.32</td>\n",
       "    </tr>\n",
       "    <tr>\n",
       "      <th>32080</th>\n",
       "      <td>1.0</td>\n",
       "      <td>1.00</td>\n",
       "    </tr>\n",
       "    <tr>\n",
       "      <th>40878</th>\n",
       "      <td>1.0</td>\n",
       "      <td>0.81</td>\n",
       "    </tr>\n",
       "    <tr>\n",
       "      <th>52122</th>\n",
       "      <td>1.0</td>\n",
       "      <td>0.51</td>\n",
       "    </tr>\n",
       "    <tr>\n",
       "      <th>62913</th>\n",
       "      <td>1.0</td>\n",
       "      <td>1.00</td>\n",
       "    </tr>\n",
       "    <tr>\n",
       "      <th>51703</th>\n",
       "      <td>1.0</td>\n",
       "      <td>0.79</td>\n",
       "    </tr>\n",
       "  </tbody>\n",
       "</table>\n",
       "<p>81881 rows × 2 columns</p>\n",
       "</div>"
      ],
      "text/plain": [
       "       DistanceTravelled  OverallScore\n",
       "74387              324.0          0.76\n",
       "43637              324.0          0.05\n",
       "50611              324.0          0.92\n",
       "3708               324.0          0.30\n",
       "55747              324.0          0.19\n",
       "73271              324.0          0.30\n",
       "24345              324.0          0.55\n",
       "24289              324.0          0.22\n",
       "36417              324.0          0.69\n",
       "40212              324.0          0.41\n",
       "4395               324.0          0.42\n",
       "7585               324.0          0.78\n",
       "65188              324.0          0.80\n",
       "73241              324.0          0.54\n",
       "59450              324.0          0.91\n",
       "77802              324.0          0.50\n",
       "49156              324.0          0.99\n",
       "1832               324.0          0.03\n",
       "73239              324.0          0.89\n",
       "15465              324.0          0.63\n",
       "33620              324.0          0.37\n",
       "37920              324.0          0.23\n",
       "15335              324.0          0.96\n",
       "79517              324.0          0.83\n",
       "74369              324.0          0.29\n",
       "24412              324.0          0.35\n",
       "69984              324.0          0.19\n",
       "55537              324.0          0.38\n",
       "62856              324.0          0.56\n",
       "81547              324.0          0.78\n",
       "...                  ...           ...\n",
       "63478                1.0          0.91\n",
       "33415                1.0          0.39\n",
       "72219                1.0          0.42\n",
       "62930                1.0          0.54\n",
       "25042                1.0          0.07\n",
       "80976                1.0          0.48\n",
       "16540                1.0          0.71\n",
       "12854                1.0          0.34\n",
       "12890                1.0          0.84\n",
       "75550                1.0          0.96\n",
       "21126                1.0          0.48\n",
       "6719                 1.0          0.97\n",
       "20951                1.0          0.79\n",
       "52797                1.0          0.88\n",
       "24135                1.0          0.76\n",
       "62635                1.0          0.44\n",
       "52702                1.0          0.74\n",
       "62708                1.0          0.68\n",
       "899                  1.0          0.63\n",
       "75936                1.0          0.86\n",
       "20775                1.0          0.37\n",
       "76001                1.0          0.70\n",
       "76016                1.0          0.82\n",
       "20684                1.0          0.97\n",
       "76145                1.0          0.32\n",
       "32080                1.0          1.00\n",
       "40878                1.0          0.81\n",
       "52122                1.0          0.51\n",
       "62913                1.0          1.00\n",
       "51703                1.0          0.79\n",
       "\n",
       "[81881 rows x 2 columns]"
      ]
     },
     "execution_count": 26,
     "metadata": {},
     "output_type": "execute_result"
    }
   ],
   "source": [
    "df[['DistanceTravelled','OverallScore']].sort_values(by='DistanceTravelled', ascending=False)"
   ]
  },
  {
   "cell_type": "code",
   "execution_count": 27,
   "metadata": {},
   "outputs": [
    {
     "data": {
      "text/html": [
       "<div>\n",
       "<style scoped>\n",
       "    .dataframe tbody tr th:only-of-type {\n",
       "        vertical-align: middle;\n",
       "    }\n",
       "\n",
       "    .dataframe tbody tr th {\n",
       "        vertical-align: top;\n",
       "    }\n",
       "\n",
       "    .dataframe thead th {\n",
       "        text-align: right;\n",
       "    }\n",
       "</style>\n",
       "<table border=\"1\" class=\"dataframe\">\n",
       "  <thead>\n",
       "    <tr style=\"text-align: right;\">\n",
       "      <th></th>\n",
       "      <th>mean</th>\n",
       "      <th>min</th>\n",
       "      <th>max</th>\n",
       "    </tr>\n",
       "    <tr>\n",
       "      <th>DistanceTravelled</th>\n",
       "      <th></th>\n",
       "      <th></th>\n",
       "      <th></th>\n",
       "    </tr>\n",
       "  </thead>\n",
       "  <tbody>\n",
       "    <tr>\n",
       "      <th>(0.677, 81.75]</th>\n",
       "      <td>0.501680</td>\n",
       "      <td>0.01</td>\n",
       "      <td>1.0</td>\n",
       "    </tr>\n",
       "    <tr>\n",
       "      <th>(81.75, 162.5]</th>\n",
       "      <td>0.506131</td>\n",
       "      <td>0.01</td>\n",
       "      <td>1.0</td>\n",
       "    </tr>\n",
       "    <tr>\n",
       "      <th>(162.5, 243.25]</th>\n",
       "      <td>0.505023</td>\n",
       "      <td>0.01</td>\n",
       "      <td>1.0</td>\n",
       "    </tr>\n",
       "    <tr>\n",
       "      <th>(243.25, 324.0]</th>\n",
       "      <td>0.509683</td>\n",
       "      <td>0.01</td>\n",
       "      <td>1.0</td>\n",
       "    </tr>\n",
       "  </tbody>\n",
       "</table>\n",
       "</div>"
      ],
      "text/plain": [
       "                       mean   min  max\n",
       "DistanceTravelled                     \n",
       "(0.677, 81.75]     0.501680  0.01  1.0\n",
       "(81.75, 162.5]     0.506131  0.01  1.0\n",
       "(162.5, 243.25]    0.505023  0.01  1.0\n",
       "(243.25, 324.0]    0.509683  0.01  1.0"
      ]
     },
     "execution_count": 27,
     "metadata": {},
     "output_type": "execute_result"
    }
   ],
   "source": [
    "df.groupby(pd.cut(df['DistanceTravelled'], bins=4))['OverallScore'].agg(['mean', 'min', 'max'])\n"
   ]
  },
  {
   "cell_type": "markdown",
   "metadata": {},
   "source": [
    "- There is no direct correlation between longer distance trips and lower scores. Because as we can see from the table, some of the trips with distance more than 243.25 kms are having a score of 1 which is the max score. "
   ]
  },
  {
   "cell_type": "code",
   "execution_count": 28,
   "metadata": {},
   "outputs": [],
   "source": [
    "names=df.columns\n",
    "correlations=df.corr()"
   ]
  },
  {
   "cell_type": "code",
   "execution_count": 29,
   "metadata": {},
   "outputs": [
    {
     "data": {
      "image/png": "[encoded data removed]",
      "text/plain": [
       "<Figure size 432x288 with 2 Axes>"
      ]
     },
     "metadata": {
      "needs_background": "light"
     },
     "output_type": "display_data"
    }
   ],
   "source": [
    "fig = plt.figure()\n",
    "ax = fig.add_subplot(111)\n",
    "cax = ax.matshow(correlations, vmin=-1, vmax=1)\n",
    "fig.colorbar(cax)\n",
    "ticks = np.arange(0,4,1)\n",
    "ax.set_xticks(ticks)\n",
    "ax.set_yticks(ticks)\n",
    "ax.set_xticklabels(names, rotation=45)\n",
    "ax.set_yticklabels(names)\n",
    "plt.show()"
   ]
  },
  {
   "cell_type": "markdown",
   "metadata": {},
   "source": [
    "- It can be confirmed from the correlation plot that there is no correlation between Distance Travelled and Overall Score thus we cannot say if longer trips have lower scores"
   ]
  },
  {
   "cell_type": "markdown",
   "metadata": {},
   "source": [
    "This is the plot from PowerBI and its showing the similar kind of trend but on microlevel"
   ]
  },
  {
   "cell_type": "markdown",
   "metadata": {},
   "source": [
    "![AvgOfOverallScrByDistTravelled](img/2.jpg)"
   ]
  },
  {
   "cell_type": "markdown",
   "metadata": {},
   "source": [
    "#### do drivers who have longer trips have worse scores?\n",
    "Lets first filter out the users with longer trips"
   ]
  },
  {
   "cell_type": "code",
   "execution_count": 30,
   "metadata": {},
   "outputs": [
    {
     "data": {
      "text/html": [
       "<div>\n",
       "<style scoped>\n",
       "    .dataframe tbody tr th:only-of-type {\n",
       "        vertical-align: middle;\n",
       "    }\n",
       "\n",
       "    .dataframe tbody tr th {\n",
       "        vertical-align: top;\n",
       "    }\n",
       "\n",
       "    .dataframe thead th {\n",
       "        text-align: right;\n",
       "    }\n",
       "</style>\n",
       "<table border=\"1\" class=\"dataframe\">\n",
       "  <thead>\n",
       "    <tr style=\"text-align: right;\">\n",
       "      <th></th>\n",
       "      <th>UserID</th>\n",
       "      <th>DistanceTravelled</th>\n",
       "      <th>OverallScore</th>\n",
       "    </tr>\n",
       "  </thead>\n",
       "  <tbody>\n",
       "    <tr>\n",
       "      <th>163</th>\n",
       "      <td>29</td>\n",
       "      <td>324.0</td>\n",
       "      <td>0.37</td>\n",
       "    </tr>\n",
       "    <tr>\n",
       "      <th>690</th>\n",
       "      <td>125</td>\n",
       "      <td>324.0</td>\n",
       "      <td>0.11</td>\n",
       "    </tr>\n",
       "    <tr>\n",
       "      <th>752</th>\n",
       "      <td>137</td>\n",
       "      <td>324.0</td>\n",
       "      <td>0.94</td>\n",
       "    </tr>\n",
       "    <tr>\n",
       "      <th>1832</th>\n",
       "      <td>338</td>\n",
       "      <td>324.0</td>\n",
       "      <td>0.03</td>\n",
       "    </tr>\n",
       "    <tr>\n",
       "      <th>1942</th>\n",
       "      <td>356</td>\n",
       "      <td>324.0</td>\n",
       "      <td>0.99</td>\n",
       "    </tr>\n",
       "    <tr>\n",
       "      <th>2050</th>\n",
       "      <td>375</td>\n",
       "      <td>324.0</td>\n",
       "      <td>0.08</td>\n",
       "    </tr>\n",
       "    <tr>\n",
       "      <th>2191</th>\n",
       "      <td>401</td>\n",
       "      <td>324.0</td>\n",
       "      <td>0.47</td>\n",
       "    </tr>\n",
       "    <tr>\n",
       "      <th>2520</th>\n",
       "      <td>461</td>\n",
       "      <td>324.0</td>\n",
       "      <td>0.87</td>\n",
       "    </tr>\n",
       "    <tr>\n",
       "      <th>3024</th>\n",
       "      <td>551</td>\n",
       "      <td>324.0</td>\n",
       "      <td>0.89</td>\n",
       "    </tr>\n",
       "    <tr>\n",
       "      <th>3708</th>\n",
       "      <td>673</td>\n",
       "      <td>324.0</td>\n",
       "      <td>0.30</td>\n",
       "    </tr>\n",
       "    <tr>\n",
       "      <th>4395</th>\n",
       "      <td>800</td>\n",
       "      <td>324.0</td>\n",
       "      <td>0.42</td>\n",
       "    </tr>\n",
       "    <tr>\n",
       "      <th>4745</th>\n",
       "      <td>860</td>\n",
       "      <td>324.0</td>\n",
       "      <td>0.97</td>\n",
       "    </tr>\n",
       "    <tr>\n",
       "      <th>4892</th>\n",
       "      <td>886</td>\n",
       "      <td>324.0</td>\n",
       "      <td>0.63</td>\n",
       "    </tr>\n",
       "    <tr>\n",
       "      <th>4913</th>\n",
       "      <td>891</td>\n",
       "      <td>324.0</td>\n",
       "      <td>0.24</td>\n",
       "    </tr>\n",
       "    <tr>\n",
       "      <th>5090</th>\n",
       "      <td>926</td>\n",
       "      <td>324.0</td>\n",
       "      <td>0.18</td>\n",
       "    </tr>\n",
       "    <tr>\n",
       "      <th>5398</th>\n",
       "      <td>989</td>\n",
       "      <td>324.0</td>\n",
       "      <td>0.97</td>\n",
       "    </tr>\n",
       "    <tr>\n",
       "      <th>5913</th>\n",
       "      <td>1085</td>\n",
       "      <td>324.0</td>\n",
       "      <td>0.95</td>\n",
       "    </tr>\n",
       "    <tr>\n",
       "      <th>6537</th>\n",
       "      <td>1213</td>\n",
       "      <td>324.0</td>\n",
       "      <td>0.71</td>\n",
       "    </tr>\n",
       "    <tr>\n",
       "      <th>6928</th>\n",
       "      <td>1285</td>\n",
       "      <td>324.0</td>\n",
       "      <td>0.08</td>\n",
       "    </tr>\n",
       "    <tr>\n",
       "      <th>7044</th>\n",
       "      <td>1309</td>\n",
       "      <td>324.0</td>\n",
       "      <td>0.51</td>\n",
       "    </tr>\n",
       "    <tr>\n",
       "      <th>7266</th>\n",
       "      <td>1346</td>\n",
       "      <td>324.0</td>\n",
       "      <td>0.99</td>\n",
       "    </tr>\n",
       "    <tr>\n",
       "      <th>7585</th>\n",
       "      <td>1407</td>\n",
       "      <td>324.0</td>\n",
       "      <td>0.78</td>\n",
       "    </tr>\n",
       "    <tr>\n",
       "      <th>8661</th>\n",
       "      <td>1601</td>\n",
       "      <td>324.0</td>\n",
       "      <td>0.24</td>\n",
       "    </tr>\n",
       "    <tr>\n",
       "      <th>9317</th>\n",
       "      <td>1720</td>\n",
       "      <td>324.0</td>\n",
       "      <td>0.75</td>\n",
       "    </tr>\n",
       "    <tr>\n",
       "      <th>10525</th>\n",
       "      <td>1926</td>\n",
       "      <td>324.0</td>\n",
       "      <td>0.50</td>\n",
       "    </tr>\n",
       "    <tr>\n",
       "      <th>10768</th>\n",
       "      <td>1971</td>\n",
       "      <td>324.0</td>\n",
       "      <td>0.59</td>\n",
       "    </tr>\n",
       "    <tr>\n",
       "      <th>11285</th>\n",
       "      <td>2069</td>\n",
       "      <td>324.0</td>\n",
       "      <td>0.85</td>\n",
       "    </tr>\n",
       "    <tr>\n",
       "      <th>11304</th>\n",
       "      <td>2071</td>\n",
       "      <td>324.0</td>\n",
       "      <td>0.59</td>\n",
       "    </tr>\n",
       "    <tr>\n",
       "      <th>11381</th>\n",
       "      <td>2083</td>\n",
       "      <td>324.0</td>\n",
       "      <td>0.08</td>\n",
       "    </tr>\n",
       "    <tr>\n",
       "      <th>11629</th>\n",
       "      <td>2125</td>\n",
       "      <td>324.0</td>\n",
       "      <td>0.74</td>\n",
       "    </tr>\n",
       "    <tr>\n",
       "      <th>...</th>\n",
       "      <td>...</td>\n",
       "      <td>...</td>\n",
       "      <td>...</td>\n",
       "    </tr>\n",
       "    <tr>\n",
       "      <th>24162</th>\n",
       "      <td>4450</td>\n",
       "      <td>324.0</td>\n",
       "      <td>0.66</td>\n",
       "    </tr>\n",
       "    <tr>\n",
       "      <th>24289</th>\n",
       "      <td>4472</td>\n",
       "      <td>324.0</td>\n",
       "      <td>0.22</td>\n",
       "    </tr>\n",
       "    <tr>\n",
       "      <th>24345</th>\n",
       "      <td>4483</td>\n",
       "      <td>324.0</td>\n",
       "      <td>0.55</td>\n",
       "    </tr>\n",
       "    <tr>\n",
       "      <th>24412</th>\n",
       "      <td>4495</td>\n",
       "      <td>324.0</td>\n",
       "      <td>0.35</td>\n",
       "    </tr>\n",
       "    <tr>\n",
       "      <th>24798</th>\n",
       "      <td>4563</td>\n",
       "      <td>324.0</td>\n",
       "      <td>0.81</td>\n",
       "    </tr>\n",
       "    <tr>\n",
       "      <th>25829</th>\n",
       "      <td>4758</td>\n",
       "      <td>324.0</td>\n",
       "      <td>0.78</td>\n",
       "    </tr>\n",
       "    <tr>\n",
       "      <th>25920</th>\n",
       "      <td>4775</td>\n",
       "      <td>324.0</td>\n",
       "      <td>0.96</td>\n",
       "    </tr>\n",
       "    <tr>\n",
       "      <th>26436</th>\n",
       "      <td>4870</td>\n",
       "      <td>324.0</td>\n",
       "      <td>0.08</td>\n",
       "    </tr>\n",
       "    <tr>\n",
       "      <th>26700</th>\n",
       "      <td>4914</td>\n",
       "      <td>324.0</td>\n",
       "      <td>0.97</td>\n",
       "    </tr>\n",
       "    <tr>\n",
       "      <th>26800</th>\n",
       "      <td>4937</td>\n",
       "      <td>324.0</td>\n",
       "      <td>0.84</td>\n",
       "    </tr>\n",
       "    <tr>\n",
       "      <th>27016</th>\n",
       "      <td>4977</td>\n",
       "      <td>324.0</td>\n",
       "      <td>0.85</td>\n",
       "    </tr>\n",
       "    <tr>\n",
       "      <th>27382</th>\n",
       "      <td>5049</td>\n",
       "      <td>324.0</td>\n",
       "      <td>0.06</td>\n",
       "    </tr>\n",
       "    <tr>\n",
       "      <th>27665</th>\n",
       "      <td>5097</td>\n",
       "      <td>324.0</td>\n",
       "      <td>0.34</td>\n",
       "    </tr>\n",
       "    <tr>\n",
       "      <th>27795</th>\n",
       "      <td>5120</td>\n",
       "      <td>324.0</td>\n",
       "      <td>0.18</td>\n",
       "    </tr>\n",
       "    <tr>\n",
       "      <th>28415</th>\n",
       "      <td>5233</td>\n",
       "      <td>324.0</td>\n",
       "      <td>0.18</td>\n",
       "    </tr>\n",
       "    <tr>\n",
       "      <th>28798</th>\n",
       "      <td>5308</td>\n",
       "      <td>324.0</td>\n",
       "      <td>0.43</td>\n",
       "    </tr>\n",
       "    <tr>\n",
       "      <th>28806</th>\n",
       "      <td>5310</td>\n",
       "      <td>324.0</td>\n",
       "      <td>0.74</td>\n",
       "    </tr>\n",
       "    <tr>\n",
       "      <th>29257</th>\n",
       "      <td>5391</td>\n",
       "      <td>324.0</td>\n",
       "      <td>0.17</td>\n",
       "    </tr>\n",
       "    <tr>\n",
       "      <th>29708</th>\n",
       "      <td>5471</td>\n",
       "      <td>324.0</td>\n",
       "      <td>0.91</td>\n",
       "    </tr>\n",
       "    <tr>\n",
       "      <th>29908</th>\n",
       "      <td>5509</td>\n",
       "      <td>324.0</td>\n",
       "      <td>0.60</td>\n",
       "    </tr>\n",
       "    <tr>\n",
       "      <th>30821</th>\n",
       "      <td>5683</td>\n",
       "      <td>324.0</td>\n",
       "      <td>0.70</td>\n",
       "    </tr>\n",
       "    <tr>\n",
       "      <th>31013</th>\n",
       "      <td>5719</td>\n",
       "      <td>324.0</td>\n",
       "      <td>0.75</td>\n",
       "    </tr>\n",
       "    <tr>\n",
       "      <th>31150</th>\n",
       "      <td>5743</td>\n",
       "      <td>324.0</td>\n",
       "      <td>0.90</td>\n",
       "    </tr>\n",
       "    <tr>\n",
       "      <th>31370</th>\n",
       "      <td>5782</td>\n",
       "      <td>324.0</td>\n",
       "      <td>0.90</td>\n",
       "    </tr>\n",
       "    <tr>\n",
       "      <th>31384</th>\n",
       "      <td>5784</td>\n",
       "      <td>324.0</td>\n",
       "      <td>0.81</td>\n",
       "    </tr>\n",
       "    <tr>\n",
       "      <th>31761</th>\n",
       "      <td>5851</td>\n",
       "      <td>324.0</td>\n",
       "      <td>0.27</td>\n",
       "    </tr>\n",
       "    <tr>\n",
       "      <th>31863</th>\n",
       "      <td>5870</td>\n",
       "      <td>324.0</td>\n",
       "      <td>0.57</td>\n",
       "    </tr>\n",
       "    <tr>\n",
       "      <th>31887</th>\n",
       "      <td>5873</td>\n",
       "      <td>324.0</td>\n",
       "      <td>0.30</td>\n",
       "    </tr>\n",
       "    <tr>\n",
       "      <th>32452</th>\n",
       "      <td>5976</td>\n",
       "      <td>324.0</td>\n",
       "      <td>0.36</td>\n",
       "    </tr>\n",
       "    <tr>\n",
       "      <th>32819</th>\n",
       "      <td>6048</td>\n",
       "      <td>324.0</td>\n",
       "      <td>0.62</td>\n",
       "    </tr>\n",
       "  </tbody>\n",
       "</table>\n",
       "<p>100 rows × 3 columns</p>\n",
       "</div>"
      ],
      "text/plain": [
       "       UserID  DistanceTravelled  OverallScore\n",
       "163        29              324.0          0.37\n",
       "690       125              324.0          0.11\n",
       "752       137              324.0          0.94\n",
       "1832      338              324.0          0.03\n",
       "1942      356              324.0          0.99\n",
       "2050      375              324.0          0.08\n",
       "2191      401              324.0          0.47\n",
       "2520      461              324.0          0.87\n",
       "3024      551              324.0          0.89\n",
       "3708      673              324.0          0.30\n",
       "4395      800              324.0          0.42\n",
       "4745      860              324.0          0.97\n",
       "4892      886              324.0          0.63\n",
       "4913      891              324.0          0.24\n",
       "5090      926              324.0          0.18\n",
       "5398      989              324.0          0.97\n",
       "5913     1085              324.0          0.95\n",
       "6537     1213              324.0          0.71\n",
       "6928     1285              324.0          0.08\n",
       "7044     1309              324.0          0.51\n",
       "7266     1346              324.0          0.99\n",
       "7585     1407              324.0          0.78\n",
       "8661     1601              324.0          0.24\n",
       "9317     1720              324.0          0.75\n",
       "10525    1926              324.0          0.50\n",
       "10768    1971              324.0          0.59\n",
       "11285    2069              324.0          0.85\n",
       "11304    2071              324.0          0.59\n",
       "11381    2083              324.0          0.08\n",
       "11629    2125              324.0          0.74\n",
       "...       ...                ...           ...\n",
       "24162    4450              324.0          0.66\n",
       "24289    4472              324.0          0.22\n",
       "24345    4483              324.0          0.55\n",
       "24412    4495              324.0          0.35\n",
       "24798    4563              324.0          0.81\n",
       "25829    4758              324.0          0.78\n",
       "25920    4775              324.0          0.96\n",
       "26436    4870              324.0          0.08\n",
       "26700    4914              324.0          0.97\n",
       "26800    4937              324.0          0.84\n",
       "27016    4977              324.0          0.85\n",
       "27382    5049              324.0          0.06\n",
       "27665    5097              324.0          0.34\n",
       "27795    5120              324.0          0.18\n",
       "28415    5233              324.0          0.18\n",
       "28798    5308              324.0          0.43\n",
       "28806    5310              324.0          0.74\n",
       "29257    5391              324.0          0.17\n",
       "29708    5471              324.0          0.91\n",
       "29908    5509              324.0          0.60\n",
       "30821    5683              324.0          0.70\n",
       "31013    5719              324.0          0.75\n",
       "31150    5743              324.0          0.90\n",
       "31370    5782              324.0          0.90\n",
       "31384    5784              324.0          0.81\n",
       "31761    5851              324.0          0.27\n",
       "31863    5870              324.0          0.57\n",
       "31887    5873              324.0          0.30\n",
       "32452    5976              324.0          0.36\n",
       "32819    6048              324.0          0.62\n",
       "\n",
       "[100 rows x 3 columns]"
      ]
     },
     "execution_count": 30,
     "metadata": {},
     "output_type": "execute_result"
    }
   ],
   "source": [
    "df[['UserID','DistanceTravelled','OverallScore']][df.DistanceTravelled>200].nlargest(100,'DistanceTravelled')"
   ]
  },
  {
   "cell_type": "code",
   "execution_count": 31,
   "metadata": {},
   "outputs": [
    {
     "data": {
      "text/plain": [
       "UserID               31279\n",
       "DistanceTravelled    31279\n",
       "OverallScore         31279\n",
       "dtype: int64"
      ]
     },
     "execution_count": 31,
     "metadata": {},
     "output_type": "execute_result"
    }
   ],
   "source": [
    "df[['UserID','DistanceTravelled','OverallScore']][df.DistanceTravelled>200].count()"
   ]
  },
  {
   "cell_type": "markdown",
   "metadata": {},
   "source": [
    "Here we can see we have around 31000 users who have travelled more than 200 kms. Lets check out how many of them have overallScore <0.2. \n",
    "#### assumption: threshold to consider a score less than 0.2 as worst score"
   ]
  },
  {
   "cell_type": "code",
   "execution_count": 32,
   "metadata": {},
   "outputs": [
    {
     "data": {
      "text/plain": [
       "UserID\n",
       "1     0.64\n",
       "2     0.73\n",
       "3     0.88\n",
       "4     0.93\n",
       "5     0.29\n",
       "6     0.13\n",
       "8     0.75\n",
       "9     0.83\n",
       "11    0.76\n",
       "12    1.00\n",
       "Name: OverallScore, dtype: float64"
      ]
     },
     "execution_count": 32,
     "metadata": {},
     "output_type": "execute_result"
    }
   ],
   "source": [
    "df[['UserID','DistanceTravelled','OverallScore']][df.DistanceTravelled>200].groupby('UserID')['OverallScore'].max()[:10]"
   ]
  },
  {
   "cell_type": "code",
   "execution_count": 33,
   "metadata": {},
   "outputs": [
    {
     "data": {
      "text/plain": [
       "856"
      ]
     },
     "execution_count": 33,
     "metadata": {},
     "output_type": "execute_result"
    }
   ],
   "source": [
    "np.count_nonzero(df[['UserID','DistanceTravelled','OverallScore']][df.DistanceTravelled>200].groupby('UserID')['OverallScore'].max()<0.2)"
   ]
  },
  {
   "cell_type": "markdown",
   "metadata": {},
   "source": [
    "- As we can see out of about 31000 only 856 have score lower than 0.2, so we can't really say long distance drivers have worst scores. Since only 856 drivers have low score in this category, so there could be other factors which might have affected their overall score not only the distance. "
   ]
  },
  {
   "cell_type": "markdown",
   "metadata": {},
   "source": [
    "#### is quality of drivers improving over time?"
   ]
  },
  {
   "cell_type": "code",
   "execution_count": 34,
   "metadata": {},
   "outputs": [
    {
     "data": {
      "text/plain": [
       "<pandas.core.groupby.generic.DataFrameGroupBy object at 0x000001E6410124E0>"
      ]
     },
     "execution_count": 34,
     "metadata": {},
     "output_type": "execute_result"
    }
   ],
   "source": [
    "df.groupby('UserID')"
   ]
  },
  {
   "cell_type": "markdown",
   "metadata": {},
   "source": [
    "\n",
    "we can dive dataset dates into 4 quarters and take avg overall score in each quarter and compare if its increasing or not\n"
   ]
  },
  {
   "cell_type": "code",
   "execution_count": 35,
   "metadata": {},
   "outputs": [
    {
     "name": "stdout",
     "output_type": "stream",
     "text": [
      "2019-04-14 00:00:00\n",
      "2020-02-01 00:00:00\n"
     ]
    }
   ],
   "source": [
    "print (df.RegisteredOn.min())\n",
    "print (df.RegisteredOn.max())"
   ]
  },
  {
   "cell_type": "markdown",
   "metadata": {},
   "source": [
    "As we can see here the data is provided from **14th April 2019 to 1st Feb 2020**, the idea is to see the average score of the users every quarter to find out whether its improving or not. "
   ]
  },
  {
   "cell_type": "code",
   "execution_count": 36,
   "metadata": {},
   "outputs": [],
   "source": [
    "df['quarters'] = df.RegisteredOn.dt.quarter"
   ]
  },
  {
   "cell_type": "code",
   "execution_count": 37,
   "metadata": {},
   "outputs": [
    {
     "data": {
      "text/plain": [
       "quarters\n",
       "1    0.503960\n",
       "2    0.506579\n",
       "3    0.505167\n",
       "4    0.505894\n",
       "Name: OverallScore, dtype: float64"
      ]
     },
     "execution_count": 37,
     "metadata": {},
     "output_type": "execute_result"
    }
   ],
   "source": [
    "df.groupby('quarters')['OverallScore'].mean()"
   ]
  },
  {
   "cell_type": "code",
   "execution_count": 38,
   "metadata": {},
   "outputs": [
    {
     "data": {
      "text/plain": [
       "OverallScore    0.505894\n",
       "quarters        4.000000\n",
       "dtype: float64"
      ]
     },
     "execution_count": 38,
     "metadata": {},
     "output_type": "execute_result"
    }
   ],
   "source": [
    "df[['OverallScore','quarters']][df.quarters==4].mean()"
   ]
  },
  {
   "cell_type": "code",
   "execution_count": 39,
   "metadata": {},
   "outputs": [],
   "source": [
    "order=[2,3,4,1]"
   ]
  },
  {
   "cell_type": "code",
   "execution_count": 40,
   "metadata": {},
   "outputs": [],
   "source": [
    "#df.groupby('quarters')['OverallScore'].mean().plot.bar()"
   ]
  },
  {
   "cell_type": "code",
   "execution_count": 41,
   "metadata": {},
   "outputs": [
    {
     "data": {
      "text/plain": [
       "Text(0, 0.5, 'Overall Score')"
      ]
     },
     "execution_count": 41,
     "metadata": {},
     "output_type": "execute_result"
    },
    {
     "data": {
      "image/png": "[encoded data removed]",
      "text/plain": [
       "<Figure size 432x288 with 1 Axes>"
      ]
     },
     "metadata": {
      "needs_background": "light"
     },
     "output_type": "display_data"
    }
   ],
   "source": [
    "df.groupby('quarters')['OverallScore'].mean().loc[order].plot.bar()\n",
    "plt.title(\"Overall Score over Quarters\")\n",
    "plt.ylabel(\"Overall Score\")"
   ]
  },
  {
   "cell_type": "markdown",
   "metadata": {},
   "source": [
    "#### We can see from the above plot that from 2019 2nd quarter onwards till 2020 1st quarter there hasnt been much change in the average overall score per quarter. This tell us the quality of drivers isnt getting better or decreasing with time. Its remaining almost constant."
   ]
  },
  {
   "cell_type": "markdown",
   "metadata": {},
   "source": [
    "### Bonus Question"
   ]
  },
  {
   "cell_type": "markdown",
   "metadata": {},
   "source": [
    "![](img/bonus-1.jpg)"
   ]
  },
  {
   "cell_type": "markdown",
   "metadata": {},
   "source": [
    "- To or from station id most traffic is in between these two station ids either it is a trend or data picked up from these 2 stations"
   ]
  },
  {
   "cell_type": "markdown",
   "metadata": {},
   "source": [
    "![](img/bonus-2.jpg)"
   ]
  },
  {
   "cell_type": "markdown",
   "metadata": {},
   "source": [
    "![](img/bonus-3.jpg)"
   ]
  },
  {
   "cell_type": "markdown",
   "metadata": {},
   "source": [
    "![](img/bonus-4.jpg)"
   ]
  },
  {
   "cell_type": "markdown",
   "metadata": {},
   "source": [
    "![](img/bonus-5.jpg)"
   ]
  },
  {
   "cell_type": "code",
   "execution_count": null,
   "metadata": {},
   "outputs": [],
   "source": []
  }
 ],
 "metadata": {
  "kernelspec": {
   "display_name": "Python 3",
   "language": "python",
   "name": "python3"
  },
  "language_info": {
   "codemirror_mode": {
    "name": "ipython",
    "version": 3
   },
   "file_extension": ".py",
   "mimetype": "text/x-python",
   "name": "python",
   "nbconvert_exporter": "python",
   "pygments_lexer": "ipython3",
   "version": "3.7.3"
  }
 },
 "nbformat": 4,
 "nbformat_minor": 2
}
