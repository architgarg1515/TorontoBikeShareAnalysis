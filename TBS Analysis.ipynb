{
 "cells": [
  {
   "cell_type": "markdown",
   "metadata": {},
   "source": [
    "## Introduction\n",
    "- Toronto Bike Share (TBS) is looking to better understand bike usage trends and patterns in order to inform potential updates to their pricing model and operational procedures. \n",
    "\n",
    "\n",
    "- They have asked you to complete a large-scale analysis (50-100 hours) to address their business objectives (pricing and operations) using the data provided (Bike_share_all_clean.csv). This data has already been cleaned by their data engineering team (you can assume no further work is required for data cleaning). You only have an hour or two to start the work, and the ask above from TBS is not very well defined. \n",
    "\n",
    "\n",
    "- You can shape the initial work how you wish, whether that is documenting additional questions for TBS, data quality review, analysis, methodology development, project planning, etc. You are free to pick whichever path seems most useful, including any directions not listed here. You are shaping the path of this work. Please share the output of your initial work in any format you choose. "
   ]
  },
  {
   "cell_type": "markdown",
   "metadata": {},
   "source": [
    "### Exploratory Data Analysis\n",
    "Since no specic business question is provided, so first I will explore the data to better understand it"
   ]
  },
  {
   "cell_type": "code",
   "execution_count": 1,
   "metadata": {},
   "outputs": [],
   "source": [
    "#import required packages & libraries\n",
    "import pandas as pd\n",
    "import numpy as np\n",
    "import matplotlib.pyplot as plt\n",
    "import seaborn as sns\n",
    "%matplotlib inline"
   ]
  },
  {
   "cell_type": "code",
   "execution_count": 2,
   "metadata": {},
   "outputs": [],
   "source": [
    "#import the data\n",
    "df=pd.read_csv(\"Bike_share_all_clean_katie.csv\")"
   ]
  },
  {
   "cell_type": "code",
   "execution_count": 3,
   "metadata": {},
   "outputs": [
    {
     "data": {
      "text/html": [
       "<div>\n",
       "<style scoped>\n",
       "    .dataframe tbody tr th:only-of-type {\n",
       "        vertical-align: middle;\n",
       "    }\n",
       "\n",
       "    .dataframe tbody tr th {\n",
       "        vertical-align: top;\n",
       "    }\n",
       "\n",
       "    .dataframe thead th {\n",
       "        text-align: right;\n",
       "    }\n",
       "</style>\n",
       "<table border=\"1\" class=\"dataframe\">\n",
       "  <thead>\n",
       "    <tr style=\"text-align: right;\">\n",
       "      <th></th>\n",
       "      <th>trip_id</th>\n",
       "      <th>trip_start_time</th>\n",
       "      <th>trip_stop_time</th>\n",
       "      <th>trip_duration_seconds</th>\n",
       "      <th>from_station_id</th>\n",
       "      <th>from_station_name</th>\n",
       "      <th>to_station_id</th>\n",
       "      <th>to_station_name</th>\n",
       "      <th>user_type</th>\n",
       "    </tr>\n",
       "  </thead>\n",
       "  <tbody>\n",
       "    <tr>\n",
       "      <th>0</th>\n",
       "      <td>712382</td>\n",
       "      <td>2017-01-01 00:00:00</td>\n",
       "      <td>2017-01-01 00:03:00</td>\n",
       "      <td>223.0</td>\n",
       "      <td>7051</td>\n",
       "      <td>Wellesley St E / Yonge St (Green P)</td>\n",
       "      <td>7089</td>\n",
       "      <td>Church St  / Wood St</td>\n",
       "      <td>Member</td>\n",
       "    </tr>\n",
       "    <tr>\n",
       "      <th>1</th>\n",
       "      <td>712383</td>\n",
       "      <td>2017-01-01 00:00:00</td>\n",
       "      <td>2017-01-01 00:05:00</td>\n",
       "      <td>279.0</td>\n",
       "      <td>7143</td>\n",
       "      <td>Kendal Ave / Bernard Ave</td>\n",
       "      <td>7154</td>\n",
       "      <td>Bathurst Subway Station</td>\n",
       "      <td>Member</td>\n",
       "    </tr>\n",
       "    <tr>\n",
       "      <th>2</th>\n",
       "      <td>712384</td>\n",
       "      <td>2017-01-01 00:05:00</td>\n",
       "      <td>2017-01-01 00:29:00</td>\n",
       "      <td>1394.0</td>\n",
       "      <td>7113</td>\n",
       "      <td>Parliament St / Aberdeen Ave</td>\n",
       "      <td>7199</td>\n",
       "      <td>College St W / Markham St</td>\n",
       "      <td>Member</td>\n",
       "    </tr>\n",
       "    <tr>\n",
       "      <th>3</th>\n",
       "      <td>712385</td>\n",
       "      <td>2017-01-01 00:07:00</td>\n",
       "      <td>2017-01-01 00:21:00</td>\n",
       "      <td>826.0</td>\n",
       "      <td>7077</td>\n",
       "      <td>College Park South</td>\n",
       "      <td>7010</td>\n",
       "      <td>King St W / Spadina Ave</td>\n",
       "      <td>Member</td>\n",
       "    </tr>\n",
       "    <tr>\n",
       "      <th>4</th>\n",
       "      <td>712386</td>\n",
       "      <td>2017-01-01 00:08:00</td>\n",
       "      <td>2017-01-01 00:12:00</td>\n",
       "      <td>279.0</td>\n",
       "      <td>7079</td>\n",
       "      <td>McGill St / Church St</td>\n",
       "      <td>7047</td>\n",
       "      <td>University Ave / Gerrard St W</td>\n",
       "      <td>Member</td>\n",
       "    </tr>\n",
       "  </tbody>\n",
       "</table>\n",
       "</div>"
      ],
      "text/plain": [
       "   trip_id      trip_start_time       trip_stop_time  trip_duration_seconds  \\\n",
       "0   712382  2017-01-01 00:00:00  2017-01-01 00:03:00                  223.0   \n",
       "1   712383  2017-01-01 00:00:00  2017-01-01 00:05:00                  279.0   \n",
       "2   712384  2017-01-01 00:05:00  2017-01-01 00:29:00                 1394.0   \n",
       "3   712385  2017-01-01 00:07:00  2017-01-01 00:21:00                  826.0   \n",
       "4   712386  2017-01-01 00:08:00  2017-01-01 00:12:00                  279.0   \n",
       "\n",
       "   from_station_id                    from_station_name  to_station_id  \\\n",
       "0             7051  Wellesley St E / Yonge St (Green P)           7089   \n",
       "1             7143             Kendal Ave / Bernard Ave           7154   \n",
       "2             7113         Parliament St / Aberdeen Ave           7199   \n",
       "3             7077                   College Park South           7010   \n",
       "4             7079                McGill St / Church St           7047   \n",
       "\n",
       "                 to_station_name user_type  \n",
       "0           Church St  / Wood St    Member  \n",
       "1        Bathurst Subway Station    Member  \n",
       "2      College St W / Markham St    Member  \n",
       "3        King St W / Spadina Ave    Member  \n",
       "4  University Ave / Gerrard St W    Member  "
      ]
     },
     "execution_count": 3,
     "metadata": {},
     "output_type": "execute_result"
    }
   ],
   "source": [
    "#Let's look at first 5 rows of the dataset\n",
    "df.head()"
   ]
  },
  {
   "cell_type": "code",
   "execution_count": 4,
   "metadata": {},
   "outputs": [
    {
     "name": "stdout",
     "output_type": "stream",
     "text": [
      "<class 'pandas.core.frame.DataFrame'>\n",
      "RangeIndex: 1492367 entries, 0 to 1492366\n",
      "Data columns (total 9 columns):\n",
      "trip_id                  1492367 non-null int64\n",
      "trip_start_time          1492367 non-null object\n",
      "trip_stop_time           1492367 non-null object\n",
      "trip_duration_seconds    1492367 non-null float64\n",
      "from_station_id          1492367 non-null int64\n",
      "from_station_name        1492367 non-null object\n",
      "to_station_id            1492367 non-null int64\n",
      "to_station_name          1492367 non-null object\n",
      "user_type                1492367 non-null object\n",
      "dtypes: float64(1), int64(3), object(5)\n",
      "memory usage: 102.5+ MB\n"
     ]
    }
   ],
   "source": [
    "df.info()"
   ]
  },
  {
   "cell_type": "markdown",
   "metadata": {},
   "source": [
    "By just looking at the data info, it doesn't have any missing values. All the columns have equal values. We can further confirm if there any missing values with the help of command. "
   ]
  },
  {
   "cell_type": "code",
   "execution_count": 6,
   "metadata": {},
   "outputs": [
    {
     "data": {
      "text/plain": [
       "False"
      ]
     },
     "execution_count": 6,
     "metadata": {},
     "output_type": "execute_result"
    }
   ],
   "source": [
    "# Check if there is any missing value\n",
    "df.isnull().values.any() "
   ]
  },
  {
   "cell_type": "markdown",
   "metadata": {},
   "source": [
    "Its returning False, which means no missing values in the data. "
   ]
  },
  {
   "cell_type": "code",
   "execution_count": 5,
   "metadata": {},
   "outputs": [
    {
     "data": {
      "text/html": [
       "<div>\n",
       "<style scoped>\n",
       "    .dataframe tbody tr th:only-of-type {\n",
       "        vertical-align: middle;\n",
       "    }\n",
       "\n",
       "    .dataframe tbody tr th {\n",
       "        vertical-align: top;\n",
       "    }\n",
       "\n",
       "    .dataframe thead th {\n",
       "        text-align: right;\n",
       "    }\n",
       "</style>\n",
       "<table border=\"1\" class=\"dataframe\">\n",
       "  <thead>\n",
       "    <tr style=\"text-align: right;\">\n",
       "      <th></th>\n",
       "      <th>trip_id</th>\n",
       "      <th>trip_duration_seconds</th>\n",
       "      <th>from_station_id</th>\n",
       "      <th>to_station_id</th>\n",
       "    </tr>\n",
       "  </thead>\n",
       "  <tbody>\n",
       "    <tr>\n",
       "      <th>count</th>\n",
       "      <td>1.492367e+06</td>\n",
       "      <td>1.492367e+06</td>\n",
       "      <td>1.492367e+06</td>\n",
       "      <td>1.492367e+06</td>\n",
       "    </tr>\n",
       "    <tr>\n",
       "      <th>mean</th>\n",
       "      <td>1.553652e+06</td>\n",
       "      <td>1.017616e+03</td>\n",
       "      <td>7.095931e+03</td>\n",
       "      <td>7.095268e+03</td>\n",
       "    </tr>\n",
       "    <tr>\n",
       "      <th>std</th>\n",
       "      <td>4.758040e+05</td>\n",
       "      <td>9.772793e+03</td>\n",
       "      <td>7.681040e+01</td>\n",
       "      <td>7.664149e+01</td>\n",
       "    </tr>\n",
       "    <tr>\n",
       "      <th>min</th>\n",
       "      <td>7.123820e+05</td>\n",
       "      <td>1.000000e+00</td>\n",
       "      <td>7.000000e+03</td>\n",
       "      <td>7.000000e+03</td>\n",
       "    </tr>\n",
       "    <tr>\n",
       "      <th>25%</th>\n",
       "      <td>1.147384e+06</td>\n",
       "      <td>4.150000e+02</td>\n",
       "      <td>7.032000e+03</td>\n",
       "      <td>7.033000e+03</td>\n",
       "    </tr>\n",
       "    <tr>\n",
       "      <th>50%</th>\n",
       "      <td>1.558954e+06</td>\n",
       "      <td>6.540000e+02</td>\n",
       "      <td>7.069000e+03</td>\n",
       "      <td>7.068000e+03</td>\n",
       "    </tr>\n",
       "    <tr>\n",
       "      <th>75%</th>\n",
       "      <td>1.961200e+06</td>\n",
       "      <td>1.020000e+03</td>\n",
       "      <td>7.161000e+03</td>\n",
       "      <td>7.161000e+03</td>\n",
       "    </tr>\n",
       "    <tr>\n",
       "      <th>max</th>\n",
       "      <td>2.383646e+06</td>\n",
       "      <td>6.382030e+06</td>\n",
       "      <td>7.290000e+03</td>\n",
       "      <td>7.290000e+03</td>\n",
       "    </tr>\n",
       "  </tbody>\n",
       "</table>\n",
       "</div>"
      ],
      "text/plain": [
       "            trip_id  trip_duration_seconds  from_station_id  to_station_id\n",
       "count  1.492367e+06           1.492367e+06     1.492367e+06   1.492367e+06\n",
       "mean   1.553652e+06           1.017616e+03     7.095931e+03   7.095268e+03\n",
       "std    4.758040e+05           9.772793e+03     7.681040e+01   7.664149e+01\n",
       "min    7.123820e+05           1.000000e+00     7.000000e+03   7.000000e+03\n",
       "25%    1.147384e+06           4.150000e+02     7.032000e+03   7.033000e+03\n",
       "50%    1.558954e+06           6.540000e+02     7.069000e+03   7.068000e+03\n",
       "75%    1.961200e+06           1.020000e+03     7.161000e+03   7.161000e+03\n",
       "max    2.383646e+06           6.382030e+06     7.290000e+03   7.290000e+03"
      ]
     },
     "execution_count": 5,
     "metadata": {},
     "output_type": "execute_result"
    }
   ],
   "source": [
    "df.describe()"
   ]
  },
  {
   "cell_type": "markdown",
   "metadata": {},
   "source": [
    "The statstics of data isn't of much use, since distribution of Ids and trip seconds isn't much useful by just looking at it. Lets confirm if there are any missing values in the the data. "
   ]
  },
  {
   "cell_type": "code",
   "execution_count": 7,
   "metadata": {},
   "outputs": [
    {
     "name": "stdout",
     "output_type": "stream",
     "text": [
      "2017-01-01 00:00:00 2017-12-31 23:58:24\n"
     ]
    }
   ],
   "source": [
    "#Lets check the timeperiod of dataset\n",
    "print(min(df.trip_start_time), max(df.trip_stop_time)) "
   ]
  },
  {
   "cell_type": "markdown",
   "metadata": {},
   "source": [
    "- **We can observe that this Dataset belongs to 2017**"
   ]
  },
  {
   "cell_type": "markdown",
   "metadata": {},
   "source": [
    "#### Before moving forward with the EDA, lets convert the objects into DateTime format. Then we will extract the hour, month and day of the week from both columns"
   ]
  },
  {
   "cell_type": "code",
   "execution_count": 8,
   "metadata": {},
   "outputs": [],
   "source": [
    "df['trip_start_time'] = pd.to_datetime(df['trip_start_time'])\n",
    "df['trip_stop_time'] = pd.to_datetime(df['trip_stop_time'])\n",
    "df['hour_start'] = df['trip_start_time'].apply(lambda time: time.hour)\n",
    "df['month_start'] = df['trip_start_time'].apply(lambda time: time.month)\n",
    "df['weekday_start'] = df['trip_start_time'].apply(lambda time: time.dayofweek)\n",
    "df['hour_stop'] = df['trip_stop_time'].apply(lambda time: time.hour)\n",
    "df['month_stop'] = df['trip_stop_time'].apply(lambda time: time.month)\n",
    "df['weekday_stop'] = df['trip_stop_time'].apply(lambda time: time.dayofweek)\n",
    "\n",
    "mon = {1:'Jan',2:'Feb',3:'Mar',4:'Apr',5:'May',6:'Jun',7:'Jul',8:'Aug',9:'Sep',10:'Oct',11:'Nov',12:'Dec'}\n",
    "df['month_start'] = df['month_start'].map(mon)\n",
    "df['month_stop'] = df['month_stop'].map(mon)\n",
    "\n",
    "day = {0:'Mon',1:'Tue',2:'Wed',3:'Thu',4:'Fri',5:'Sat',6:'Sun'}\n",
    "df['weekday_start'] = df['weekday_start'].map(day)\n",
    "df['weekday_stop'] = df['weekday_stop'].map(day)"
   ]
  },
  {
   "cell_type": "markdown",
   "metadata": {},
   "source": [
    "## Questions as per Business Requirement: \n",
    "- Business requirement is to understand bike usage trends and patterns in order to inform potential updates to their pricing model and operational procedures. \n",
    "- So I decided to better understand the data in terms of its members and non members.Understanding patterns in rides, busy stations for members as well as casual rides. \n",
    "- Since business is intereted in understaing these patterns for pricing and operations so I thought it will help them in understanding which stations are busy, so that they can look at those stations in terms of more operational optimization to provide better service. \n",
    "- If they look at the patterns of members as well as casual riders then they can decide better pricing, offers for members(loyalty rewards) as well for casual riders(discounts for new members)."
   ]
  },
  {
   "cell_type": "markdown",
   "metadata": {},
   "source": [
    "#### Questions to explore\n",
    "- 1. How many users are members and casual riders for TBS?\n",
    "- 2. Explore Ridership patterns per month\n",
    "- 3. Explore Ridership patterns per day\n",
    "- 4. Explore Ridership patterns per hour\n",
    "- 5. Find the top Departing and Arriving stations for Members. ie Find busiest stations\n",
    "- 6. Find the top Departing and Arriving stations for Casual riders.\n",
    "- 7. See Daily Activity of TBS Riders\n",
    "- 8. Stations that are most frequented by two-way travellers\n",
    "- 9. Explore Bike Availability or lack of it at stations"
   ]
  },
  {
   "cell_type": "markdown",
   "metadata": {},
   "source": [
    "### How does the Toronto Bike Share membership look?"
   ]
  },
  {
   "cell_type": "code",
   "execution_count": 9,
   "metadata": {},
   "outputs": [
    {
     "data": {
      "text/plain": [
       "Text(0.5, 1.0, 'Toronto Bike Share Membership')"
      ]
     },
     "execution_count": 9,
     "metadata": {},
     "output_type": "execute_result"
    },
    {
     "data": {
      "image/png": "[encoded data removed]",
      "text/plain": [
       "<Figure size 720x360 with 1 Axes>"
      ]
     },
     "metadata": {
      "needs_background": "light"
     },
     "output_type": "display_data"
    }
   ],
   "source": [
    "plt.figure(figsize=(10,5))\n",
    "sns.set_style('darkgrid')\n",
    "sns.countplot(x='user_type',data=df,palette='viridis')\n",
    "plt.title('Toronto Bike Share Membership')"
   ]
  },
  {
   "cell_type": "markdown",
   "metadata": {},
   "source": [
    "- **We can see around 80% of the users are members based on this data in year 2017**\n",
    "\n",
    "### Lets explore Ridership patterns per month"
   ]
  },
  {
   "cell_type": "code",
   "execution_count": 10,
   "metadata": {},
   "outputs": [
    {
     "data": {
      "text/plain": [
       "<matplotlib.legend.Legend at 0x2158235b400>"
      ]
     },
     "execution_count": 10,
     "metadata": {},
     "output_type": "execute_result"
    },
    {
     "data": {
      "image/png": "[encoded data removed]",
      "text/plain": [
       "<Figure size 720x360 with 1 Axes>"
      ]
     },
     "metadata": {},
     "output_type": "display_data"
    }
   ],
   "source": [
    "plt.figure(figsize=(10,5))\n",
    "sns.set_style('darkgrid')\n",
    "ridership = sns.countplot(data=df, x='month_start', hue='user_type', palette='coolwarm')\n",
    "plt.title('Toronto Bike Share Ridership')\n",
    "plt.legend(bbox_to_anchor=(1.02, 1), loc=2, borderaxespad=0.)\n"
   ]
  },
  {
   "cell_type": "markdown",
   "metadata": {},
   "source": [
    "- **The amount of rides increased as the weather got warmer. Ridership peaked for both members as well casual riders during the months from Jun-Oct in 2017.**\n",
    "\n",
    "### Lets look at Ridership patterns per day"
   ]
  },
  {
   "cell_type": "code",
   "execution_count": 11,
   "metadata": {},
   "outputs": [
    {
     "data": {
      "text/plain": [
       "<matplotlib.legend.Legend at 0x21582446278>"
      ]
     },
     "execution_count": 11,
     "metadata": {},
     "output_type": "execute_result"
    },
    {
     "data": {
      "image/png": "[encoded data removed]",
      "text/plain": [
       "<Figure size 720x360 with 1 Axes>"
      ]
     },
     "metadata": {},
     "output_type": "display_data"
    }
   ],
   "source": [
    "plt.figure(figsize=(10,5))\n",
    "sns.set_style('darkgrid')\n",
    "ridership = sns.countplot(data=df, x='weekday_start', hue='user_type', palette='coolwarm')\n",
    "plt.title('Toronto Bike Share Ridership')\n",
    "plt.legend(bbox_to_anchor=(1.02, 1), loc=2, borderaxespad=0.)"
   ]
  },
  {
   "cell_type": "markdown",
   "metadata": {},
   "source": [
    "- **Members rode mostly during the weekdays; especially from Tuesday to Thursday, While casual riders were riding mostly on weekends.** \n",
    "\n",
    "### Ridership patterns per hour"
   ]
  },
  {
   "cell_type": "code",
   "execution_count": 12,
   "metadata": {},
   "outputs": [
    {
     "data": {
      "text/plain": [
       "<matplotlib.legend.Legend at 0x2158247c2b0>"
      ]
     },
     "execution_count": 12,
     "metadata": {},
     "output_type": "execute_result"
    },
    {
     "data": {
      "image/png": "[encoded data removed]",
      "text/plain": [
       "<Figure size 720x360 with 1 Axes>"
      ]
     },
     "metadata": {},
     "output_type": "display_data"
    }
   ],
   "source": [
    "plt.figure(figsize=(10,5))\n",
    "sns.set_style('darkgrid')\n",
    "ridership = sns.countplot(data=df, x='hour_start', hue='user_type', palette='coolwarm')\n",
    "plt.title('Toronto Bike Share Ridership')\n",
    "plt.legend(bbox_to_anchor=(1.02, 1), loc=2, borderaxespad=0.)"
   ]
  },
  {
   "cell_type": "markdown",
   "metadata": {},
   "source": [
    "- **Members rode between 8am-9am and 4pm-6pm; while casual riders were riding throughout the day (noon to the early evening hours).**\n",
    "\n",
    "### Top/Busiest five Departing and Arriving stations for Members"
   ]
  },
  {
   "cell_type": "code",
   "execution_count": 13,
   "metadata": {},
   "outputs": [
    {
     "data": {
      "text/plain": [
       "Text(0.5, 1.0, 'Top 5 Departing Stations Members')"
      ]
     },
     "execution_count": 13,
     "metadata": {},
     "output_type": "execute_result"
    },
    {
     "data": {
      "image/png": "[encoded data removed]",
      "text/plain": [
       "<Figure size 720x360 with 1 Axes>"
      ]
     },
     "metadata": {},
     "output_type": "display_data"
    }
   ],
   "source": [
    "plt.figure(figsize=(10,5))\n",
    "sns.set_style('darkgrid')\n",
    "sns.countplot(y=df[df.user_type=='Member']['from_station_name'],data=df, palette='coolwarm',order=df[df.user_type=='Member']['from_station_name'].value_counts().index[:5])\n",
    "plt.title('Top 5 Departing Stations Members')"
   ]
  },
  {
   "cell_type": "markdown",
   "metadata": {},
   "source": [
    "**Here we can we most busiest station was union station, then wellington St and so on**\n"
   ]
  },
  {
   "cell_type": "code",
   "execution_count": 14,
   "metadata": {},
   "outputs": [
    {
     "data": {
      "text/plain": [
       "Text(0.5, 1.0, 'Top 5 Arriving Stations for Members')"
      ]
     },
     "execution_count": 14,
     "metadata": {},
     "output_type": "execute_result"
    },
    {
     "data": {
      "image/png": "[encoded data removed]",
      "text/plain": [
       "<Figure size 720x360 with 1 Axes>"
      ]
     },
     "metadata": {},
     "output_type": "display_data"
    }
   ],
   "source": [
    "plt.figure(figsize=(10,5))\n",
    "sns.set_style('darkgrid')\n",
    "sns.countplot(y=df[df.user_type=='Member']['to_station_name'],data=df, palette='coolwarm',order=df[df.user_type=='Member']['to_station_name'].value_counts().index[:5])\n",
    "plt.title('Top 5 Arriving Stations for Members')"
   ]
  },
  {
   "cell_type": "markdown",
   "metadata": {},
   "source": [
    "- **Union Station was the busiest station for members as it was the top arrival and departure station**"
   ]
  },
  {
   "cell_type": "markdown",
   "metadata": {},
   "source": [
    "### Top/Busiest Arrival and Departing stations among casual riders\n"
   ]
  },
  {
   "cell_type": "code",
   "execution_count": 15,
   "metadata": {},
   "outputs": [
    {
     "data": {
      "text/plain": [
       "Text(0.5, 1.0, 'Top 5 Departing Stations for Casual Riders')"
      ]
     },
     "execution_count": 15,
     "metadata": {},
     "output_type": "execute_result"
    },
    {
     "data": {
      "image/png": "[encoded data removed]",
      "text/plain": [
       "<Figure size 720x360 with 1 Axes>"
      ]
     },
     "metadata": {},
     "output_type": "display_data"
    }
   ],
   "source": [
    "plt.figure(figsize=(10,5))\n",
    "sns.set_style('darkgrid')\n",
    "sns.countplot(y=df[df.user_type=='Casual']['from_station_name'],data=df, palette='viridis',order=df[df.user_type=='Casual']['from_station_name'].value_counts().index[:5])\n",
    "plt.title('Top 5 Departing Stations for Casual Riders')\n"
   ]
  },
  {
   "cell_type": "code",
   "execution_count": 16,
   "metadata": {},
   "outputs": [
    {
     "data": {
      "text/plain": [
       "Text(0.5, 1.0, 'Top 5 Arriving Stations for Casual Riders')"
      ]
     },
     "execution_count": 16,
     "metadata": {},
     "output_type": "execute_result"
    },
    {
     "data": {
      "image/png": "[encoded data removed]",
      "text/plain": [
       "<Figure size 720x360 with 1 Axes>"
      ]
     },
     "metadata": {},
     "output_type": "display_data"
    }
   ],
   "source": [
    "plt.figure(figsize=(10,5))\n",
    "sns.set_style('darkgrid')\n",
    "sns.countplot(y=df[df.user_type=='Casual']['to_station_name'],data=df, palette='viridis',order=df[df.user_type=='Casual']['to_station_name'].value_counts().index[:5])\n",
    "plt.title('Top 5 Arriving Stations for Casual Riders')"
   ]
  },
  {
   "cell_type": "markdown",
   "metadata": {},
   "source": [
    "- **Ontario Place Blvd/Remembrance Dr was the busiest station for casual riders as it was the top arrival and departure station for them**"
   ]
  },
  {
   "cell_type": "markdown",
   "metadata": {},
   "source": [
    "####  Heat Map to see the daily activity"
   ]
  },
  {
   "cell_type": "code",
   "execution_count": 17,
   "metadata": {},
   "outputs": [
    {
     "data": {
      "text/plain": [
       "<matplotlib.axes._subplots.AxesSubplot at 0x2158081c6d8>"
      ]
     },
     "execution_count": 17,
     "metadata": {},
     "output_type": "execute_result"
    },
    {
     "data": {
      "image/png": "[encoded data removed]",
      "text/plain": [
       "<Figure size 864x432 with 2 Axes>"
      ]
     },
     "metadata": {},
     "output_type": "display_data"
    }
   ],
   "source": [
    "plt.figure(figsize=(12,6))\n",
    "sns.heatmap(df.groupby(by=['weekday_start','hour_start']).count()['user_type'].unstack(),cmap='coolwarm')"
   ]
  },
  {
   "cell_type": "markdown",
   "metadata": {},
   "source": [
    "- **The heatmap shows us that most of the activity occured on Wednesday, Tuesday and Thursday at 17hrs ie 5pm.**\n",
    "\n",
    "#### Stations that are most frequented by two-way travellers"
   ]
  },
  {
   "cell_type": "code",
   "execution_count": 18,
   "metadata": {},
   "outputs": [],
   "source": [
    "station = list(set(list(df.from_station_name.values) + list(df.to_station_name.values)))\n",
    "\n",
    "df1 = df.copy()\n",
    "df1['time'] = pd.to_datetime(df1.trip_start_time)\n",
    "df1.index = df1.time.dt.date\n",
    "df1.index.name = 'index'\n",
    "\n",
    "route = df1[['from_station_name', 'to_station_name']]\n",
    "\n",
    "#Separate two-way traveller with one-way traveller for each station\n",
    "\n",
    "twoway = route.copy()\n",
    "twoway = twoway[twoway.from_station_name == twoway.to_station_name]\n",
    "oneway = route.copy()\n",
    "oneway = oneway[oneway.from_station_name != oneway.to_station_name]\n",
    "\n",
    "twoway_map = twoway.groupby('from_station_name').count().sort_values(by='to_station_name', ascending=False)\n",
    "\n"
   ]
  },
  {
   "cell_type": "markdown",
   "metadata": {},
   "source": [
    "- **Top 10 Stations with the highest number of two-way travellers**"
   ]
  },
  {
   "cell_type": "code",
   "execution_count": 19,
   "metadata": {},
   "outputs": [
    {
     "data": {
      "text/plain": [
       "<matplotlib.axes._subplots.AxesSubplot at 0x215803607b8>"
      ]
     },
     "execution_count": 19,
     "metadata": {},
     "output_type": "execute_result"
    },
    {
     "data": {
      "image/png": "[encoded data removed]",
      "text/plain": [
       "<Figure size 864x576 with 1 Axes>"
      ]
     },
     "metadata": {},
     "output_type": "display_data"
    }
   ],
   "source": [
    "plt.figure(figsize=(12,8))\n",
    "sns.set_style('darkgrid')\n",
    "plt.title('10 Stations with the highest number of two-way travellers')\n",
    "plt.xlabel(\"Number of two-way travellers\")\n",
    "sns.barplot(x = twoway_map[:10].values.flatten(),\n",
    "            y = twoway_map[:10].index,\n",
    "            )"
   ]
  },
  {
   "cell_type": "markdown",
   "metadata": {},
   "source": [
    "- **Here we observe that Ontario Place Blvd/Remembrance Dr had the most number of two-way travellers ie 3802**"
   ]
  },
  {
   "cell_type": "markdown",
   "metadata": {},
   "source": [
    "### Now let's look at the Bike Availability at Stations"
   ]
  },
  {
   "cell_type": "code",
   "execution_count": 20,
   "metadata": {},
   "outputs": [],
   "source": [
    "# Lets create a table for the number of bikes leaving ('from_station') and entering ('to_station') each day\n",
    "\n",
    "# by mapping the number of outgoing bike from each station each day\n",
    "# and mapping the number of incoming bike to each station each day\n",
    "outgoing = pd.get_dummies(df1.from_station_name).groupby('index').sum()\n",
    "incoming = pd.get_dummies(df1.to_station_name).groupby('index').sum()"
   ]
  },
  {
   "cell_type": "code",
   "execution_count": 21,
   "metadata": {},
   "outputs": [
    {
     "data": {
      "text/html": [
       "<div>\n",
       "<style scoped>\n",
       "    .dataframe tbody tr th:only-of-type {\n",
       "        vertical-align: middle;\n",
       "    }\n",
       "\n",
       "    .dataframe tbody tr th {\n",
       "        vertical-align: top;\n",
       "    }\n",
       "\n",
       "    .dataframe thead th {\n",
       "        text-align: right;\n",
       "    }\n",
       "</style>\n",
       "<table border=\"1\" class=\"dataframe\">\n",
       "  <thead>\n",
       "    <tr style=\"text-align: right;\">\n",
       "      <th></th>\n",
       "      <th>111 Bond St (North of Dundas St E)  - SMART</th>\n",
       "      <th>161 Bleecker St (South of Wellesley)</th>\n",
       "      <th>25 York St (ACC/Union Station South)</th>\n",
       "      <th>424 Wellington St W</th>\n",
       "      <th>51 Parliament St</th>\n",
       "      <th>519 Church St - SMART</th>\n",
       "      <th>80 Clinton St (North of College)</th>\n",
       "      <th>Adelaide St W / Bay St - SMART</th>\n",
       "      <th>Augusta Ave / Denison Sq</th>\n",
       "      <th>Augusta Ave / Dundas St W</th>\n",
       "      <th>...</th>\n",
       "      <th>Wychwood Ave / Benson Ave - SMART</th>\n",
       "      <th>Yarmouth Rd / Christie St</th>\n",
       "      <th>Yonge St / Alexander St - SMART</th>\n",
       "      <th>Yonge St / Aylmer Ave</th>\n",
       "      <th>Yonge St / Dundonald St - SMART</th>\n",
       "      <th>Yonge St / Harbour St</th>\n",
       "      <th>Yonge St / Wood St</th>\n",
       "      <th>Yonge St / Yorkville Ave</th>\n",
       "      <th>York St / King St W - SMART</th>\n",
       "      <th>York St / Queens Quay W</th>\n",
       "    </tr>\n",
       "    <tr>\n",
       "      <th>index</th>\n",
       "      <th></th>\n",
       "      <th></th>\n",
       "      <th></th>\n",
       "      <th></th>\n",
       "      <th></th>\n",
       "      <th></th>\n",
       "      <th></th>\n",
       "      <th></th>\n",
       "      <th></th>\n",
       "      <th></th>\n",
       "      <th></th>\n",
       "      <th></th>\n",
       "      <th></th>\n",
       "      <th></th>\n",
       "      <th></th>\n",
       "      <th></th>\n",
       "      <th></th>\n",
       "      <th></th>\n",
       "      <th></th>\n",
       "      <th></th>\n",
       "      <th></th>\n",
       "    </tr>\n",
       "  </thead>\n",
       "  <tbody>\n",
       "    <tr>\n",
       "      <th>2017-01-01</th>\n",
       "      <td>0.0</td>\n",
       "      <td>0.0</td>\n",
       "      <td>4.0</td>\n",
       "      <td>3.0</td>\n",
       "      <td>1.0</td>\n",
       "      <td>0.0</td>\n",
       "      <td>1.0</td>\n",
       "      <td>0.0</td>\n",
       "      <td>2.0</td>\n",
       "      <td>3.0</td>\n",
       "      <td>...</td>\n",
       "      <td>0.0</td>\n",
       "      <td>1.0</td>\n",
       "      <td>0.0</td>\n",
       "      <td>0.0</td>\n",
       "      <td>0.0</td>\n",
       "      <td>2.0</td>\n",
       "      <td>5.0</td>\n",
       "      <td>2.0</td>\n",
       "      <td>0.0</td>\n",
       "      <td>4.0</td>\n",
       "    </tr>\n",
       "    <tr>\n",
       "      <th>2017-01-02</th>\n",
       "      <td>0.0</td>\n",
       "      <td>3.0</td>\n",
       "      <td>2.0</td>\n",
       "      <td>4.0</td>\n",
       "      <td>3.0</td>\n",
       "      <td>0.0</td>\n",
       "      <td>1.0</td>\n",
       "      <td>0.0</td>\n",
       "      <td>2.0</td>\n",
       "      <td>5.0</td>\n",
       "      <td>...</td>\n",
       "      <td>0.0</td>\n",
       "      <td>4.0</td>\n",
       "      <td>0.0</td>\n",
       "      <td>0.0</td>\n",
       "      <td>0.0</td>\n",
       "      <td>6.0</td>\n",
       "      <td>6.0</td>\n",
       "      <td>2.0</td>\n",
       "      <td>0.0</td>\n",
       "      <td>9.0</td>\n",
       "    </tr>\n",
       "    <tr>\n",
       "      <th>2017-01-03</th>\n",
       "      <td>0.0</td>\n",
       "      <td>6.0</td>\n",
       "      <td>8.0</td>\n",
       "      <td>8.0</td>\n",
       "      <td>5.0</td>\n",
       "      <td>0.0</td>\n",
       "      <td>3.0</td>\n",
       "      <td>0.0</td>\n",
       "      <td>5.0</td>\n",
       "      <td>5.0</td>\n",
       "      <td>...</td>\n",
       "      <td>0.0</td>\n",
       "      <td>2.0</td>\n",
       "      <td>0.0</td>\n",
       "      <td>0.0</td>\n",
       "      <td>0.0</td>\n",
       "      <td>7.0</td>\n",
       "      <td>5.0</td>\n",
       "      <td>1.0</td>\n",
       "      <td>0.0</td>\n",
       "      <td>9.0</td>\n",
       "    </tr>\n",
       "    <tr>\n",
       "      <th>2017-01-04</th>\n",
       "      <td>0.0</td>\n",
       "      <td>11.0</td>\n",
       "      <td>7.0</td>\n",
       "      <td>11.0</td>\n",
       "      <td>5.0</td>\n",
       "      <td>0.0</td>\n",
       "      <td>1.0</td>\n",
       "      <td>0.0</td>\n",
       "      <td>4.0</td>\n",
       "      <td>12.0</td>\n",
       "      <td>...</td>\n",
       "      <td>0.0</td>\n",
       "      <td>1.0</td>\n",
       "      <td>0.0</td>\n",
       "      <td>0.0</td>\n",
       "      <td>0.0</td>\n",
       "      <td>11.0</td>\n",
       "      <td>15.0</td>\n",
       "      <td>4.0</td>\n",
       "      <td>0.0</td>\n",
       "      <td>18.0</td>\n",
       "    </tr>\n",
       "    <tr>\n",
       "      <th>2017-01-05</th>\n",
       "      <td>0.0</td>\n",
       "      <td>10.0</td>\n",
       "      <td>8.0</td>\n",
       "      <td>10.0</td>\n",
       "      <td>4.0</td>\n",
       "      <td>0.0</td>\n",
       "      <td>2.0</td>\n",
       "      <td>0.0</td>\n",
       "      <td>4.0</td>\n",
       "      <td>12.0</td>\n",
       "      <td>...</td>\n",
       "      <td>0.0</td>\n",
       "      <td>2.0</td>\n",
       "      <td>0.0</td>\n",
       "      <td>3.0</td>\n",
       "      <td>0.0</td>\n",
       "      <td>8.0</td>\n",
       "      <td>12.0</td>\n",
       "      <td>2.0</td>\n",
       "      <td>0.0</td>\n",
       "      <td>9.0</td>\n",
       "    </tr>\n",
       "  </tbody>\n",
       "</table>\n",
       "<p>5 rows × 274 columns</p>\n",
       "</div>"
      ],
      "text/plain": [
       "            111 Bond St (North of Dundas St E)  - SMART  \\\n",
       "index                                                     \n",
       "2017-01-01                                          0.0   \n",
       "2017-01-02                                          0.0   \n",
       "2017-01-03                                          0.0   \n",
       "2017-01-04                                          0.0   \n",
       "2017-01-05                                          0.0   \n",
       "\n",
       "            161 Bleecker St (South of Wellesley)  \\\n",
       "index                                              \n",
       "2017-01-01                                   0.0   \n",
       "2017-01-02                                   3.0   \n",
       "2017-01-03                                   6.0   \n",
       "2017-01-04                                  11.0   \n",
       "2017-01-05                                  10.0   \n",
       "\n",
       "            25 York St (ACC/Union Station South)  424 Wellington St W  \\\n",
       "index                                                                   \n",
       "2017-01-01                                   4.0                  3.0   \n",
       "2017-01-02                                   2.0                  4.0   \n",
       "2017-01-03                                   8.0                  8.0   \n",
       "2017-01-04                                   7.0                 11.0   \n",
       "2017-01-05                                   8.0                 10.0   \n",
       "\n",
       "            51 Parliament St  519 Church St - SMART  \\\n",
       "index                                                 \n",
       "2017-01-01               1.0                    0.0   \n",
       "2017-01-02               3.0                    0.0   \n",
       "2017-01-03               5.0                    0.0   \n",
       "2017-01-04               5.0                    0.0   \n",
       "2017-01-05               4.0                    0.0   \n",
       "\n",
       "            80 Clinton St (North of College)  Adelaide St W / Bay St - SMART  \\\n",
       "index                                                                          \n",
       "2017-01-01                               1.0                             0.0   \n",
       "2017-01-02                               1.0                             0.0   \n",
       "2017-01-03                               3.0                             0.0   \n",
       "2017-01-04                               1.0                             0.0   \n",
       "2017-01-05                               2.0                             0.0   \n",
       "\n",
       "            Augusta Ave / Denison Sq  Augusta Ave / Dundas St W  ...  \\\n",
       "index                                                            ...   \n",
       "2017-01-01                       2.0                        3.0  ...   \n",
       "2017-01-02                       2.0                        5.0  ...   \n",
       "2017-01-03                       5.0                        5.0  ...   \n",
       "2017-01-04                       4.0                       12.0  ...   \n",
       "2017-01-05                       4.0                       12.0  ...   \n",
       "\n",
       "            Wychwood Ave / Benson Ave - SMART  Yarmouth Rd / Christie St  \\\n",
       "index                                                                      \n",
       "2017-01-01                                0.0                        1.0   \n",
       "2017-01-02                                0.0                        4.0   \n",
       "2017-01-03                                0.0                        2.0   \n",
       "2017-01-04                                0.0                        1.0   \n",
       "2017-01-05                                0.0                        2.0   \n",
       "\n",
       "            Yonge St / Alexander St - SMART  Yonge St / Aylmer Ave  \\\n",
       "index                                                                \n",
       "2017-01-01                              0.0                    0.0   \n",
       "2017-01-02                              0.0                    0.0   \n",
       "2017-01-03                              0.0                    0.0   \n",
       "2017-01-04                              0.0                    0.0   \n",
       "2017-01-05                              0.0                    3.0   \n",
       "\n",
       "            Yonge St / Dundonald St - SMART  Yonge St / Harbour St  \\\n",
       "index                                                                \n",
       "2017-01-01                              0.0                    2.0   \n",
       "2017-01-02                              0.0                    6.0   \n",
       "2017-01-03                              0.0                    7.0   \n",
       "2017-01-04                              0.0                   11.0   \n",
       "2017-01-05                              0.0                    8.0   \n",
       "\n",
       "            Yonge St / Wood St  Yonge St / Yorkville Ave  \\\n",
       "index                                                      \n",
       "2017-01-01                 5.0                       2.0   \n",
       "2017-01-02                 6.0                       2.0   \n",
       "2017-01-03                 5.0                       1.0   \n",
       "2017-01-04                15.0                       4.0   \n",
       "2017-01-05                12.0                       2.0   \n",
       "\n",
       "            York St / King St W - SMART  York St / Queens Quay W  \n",
       "index                                                             \n",
       "2017-01-01                          0.0                      4.0  \n",
       "2017-01-02                          0.0                      9.0  \n",
       "2017-01-03                          0.0                      9.0  \n",
       "2017-01-04                          0.0                     18.0  \n",
       "2017-01-05                          0.0                      9.0  \n",
       "\n",
       "[5 rows x 274 columns]"
      ]
     },
     "execution_count": 21,
     "metadata": {},
     "output_type": "execute_result"
    }
   ],
   "source": [
    "outgoing.head()"
   ]
  },
  {
   "cell_type": "code",
   "execution_count": 22,
   "metadata": {},
   "outputs": [
    {
     "data": {
      "text/html": [
       "<div>\n",
       "<style scoped>\n",
       "    .dataframe tbody tr th:only-of-type {\n",
       "        vertical-align: middle;\n",
       "    }\n",
       "\n",
       "    .dataframe tbody tr th {\n",
       "        vertical-align: top;\n",
       "    }\n",
       "\n",
       "    .dataframe thead th {\n",
       "        text-align: right;\n",
       "    }\n",
       "</style>\n",
       "<table border=\"1\" class=\"dataframe\">\n",
       "  <thead>\n",
       "    <tr style=\"text-align: right;\">\n",
       "      <th></th>\n",
       "      <th>111 Bond St (North of Dundas St E)  - SMART</th>\n",
       "      <th>161 Bleecker St (South of Wellesley)</th>\n",
       "      <th>25 York St (ACC/Union Station South)</th>\n",
       "      <th>424 Wellington St W</th>\n",
       "      <th>51 Parliament St</th>\n",
       "      <th>519 Church St - SMART</th>\n",
       "      <th>80 Clinton St (North of College)</th>\n",
       "      <th>Adelaide St W / Bay St - SMART</th>\n",
       "      <th>Augusta Ave / Denison Sq</th>\n",
       "      <th>Augusta Ave / Dundas St W</th>\n",
       "      <th>...</th>\n",
       "      <th>Wychwood Ave / Benson Ave - SMART</th>\n",
       "      <th>Yarmouth Rd / Christie St</th>\n",
       "      <th>Yonge St / Alexander St - SMART</th>\n",
       "      <th>Yonge St / Aylmer Ave</th>\n",
       "      <th>Yonge St / Dundonald St - SMART</th>\n",
       "      <th>Yonge St / Harbour St</th>\n",
       "      <th>Yonge St / Wood St</th>\n",
       "      <th>Yonge St / Yorkville Ave</th>\n",
       "      <th>York St / King St W - SMART</th>\n",
       "      <th>York St / Queens Quay W</th>\n",
       "    </tr>\n",
       "    <tr>\n",
       "      <th>index</th>\n",
       "      <th></th>\n",
       "      <th></th>\n",
       "      <th></th>\n",
       "      <th></th>\n",
       "      <th></th>\n",
       "      <th></th>\n",
       "      <th></th>\n",
       "      <th></th>\n",
       "      <th></th>\n",
       "      <th></th>\n",
       "      <th></th>\n",
       "      <th></th>\n",
       "      <th></th>\n",
       "      <th></th>\n",
       "      <th></th>\n",
       "      <th></th>\n",
       "      <th></th>\n",
       "      <th></th>\n",
       "      <th></th>\n",
       "      <th></th>\n",
       "      <th></th>\n",
       "    </tr>\n",
       "  </thead>\n",
       "  <tbody>\n",
       "    <tr>\n",
       "      <th>2017-01-01</th>\n",
       "      <td>0.0</td>\n",
       "      <td>4.0</td>\n",
       "      <td>6.0</td>\n",
       "      <td>2.0</td>\n",
       "      <td>0.0</td>\n",
       "      <td>0.0</td>\n",
       "      <td>2.0</td>\n",
       "      <td>0.0</td>\n",
       "      <td>7.0</td>\n",
       "      <td>5.0</td>\n",
       "      <td>...</td>\n",
       "      <td>0.0</td>\n",
       "      <td>1.0</td>\n",
       "      <td>0.0</td>\n",
       "      <td>0.0</td>\n",
       "      <td>0.0</td>\n",
       "      <td>0.0</td>\n",
       "      <td>4.0</td>\n",
       "      <td>2.0</td>\n",
       "      <td>0.0</td>\n",
       "      <td>4.0</td>\n",
       "    </tr>\n",
       "    <tr>\n",
       "      <th>2017-01-02</th>\n",
       "      <td>0.0</td>\n",
       "      <td>3.0</td>\n",
       "      <td>7.0</td>\n",
       "      <td>9.0</td>\n",
       "      <td>1.0</td>\n",
       "      <td>0.0</td>\n",
       "      <td>4.0</td>\n",
       "      <td>0.0</td>\n",
       "      <td>5.0</td>\n",
       "      <td>6.0</td>\n",
       "      <td>...</td>\n",
       "      <td>0.0</td>\n",
       "      <td>2.0</td>\n",
       "      <td>0.0</td>\n",
       "      <td>0.0</td>\n",
       "      <td>0.0</td>\n",
       "      <td>6.0</td>\n",
       "      <td>6.0</td>\n",
       "      <td>2.0</td>\n",
       "      <td>0.0</td>\n",
       "      <td>13.0</td>\n",
       "    </tr>\n",
       "    <tr>\n",
       "      <th>2017-01-03</th>\n",
       "      <td>0.0</td>\n",
       "      <td>4.0</td>\n",
       "      <td>8.0</td>\n",
       "      <td>4.0</td>\n",
       "      <td>4.0</td>\n",
       "      <td>0.0</td>\n",
       "      <td>3.0</td>\n",
       "      <td>0.0</td>\n",
       "      <td>3.0</td>\n",
       "      <td>5.0</td>\n",
       "      <td>...</td>\n",
       "      <td>0.0</td>\n",
       "      <td>1.0</td>\n",
       "      <td>0.0</td>\n",
       "      <td>1.0</td>\n",
       "      <td>0.0</td>\n",
       "      <td>6.0</td>\n",
       "      <td>5.0</td>\n",
       "      <td>3.0</td>\n",
       "      <td>0.0</td>\n",
       "      <td>11.0</td>\n",
       "    </tr>\n",
       "    <tr>\n",
       "      <th>2017-01-04</th>\n",
       "      <td>0.0</td>\n",
       "      <td>11.0</td>\n",
       "      <td>8.0</td>\n",
       "      <td>9.0</td>\n",
       "      <td>6.0</td>\n",
       "      <td>0.0</td>\n",
       "      <td>0.0</td>\n",
       "      <td>0.0</td>\n",
       "      <td>3.0</td>\n",
       "      <td>12.0</td>\n",
       "      <td>...</td>\n",
       "      <td>0.0</td>\n",
       "      <td>0.0</td>\n",
       "      <td>0.0</td>\n",
       "      <td>1.0</td>\n",
       "      <td>0.0</td>\n",
       "      <td>16.0</td>\n",
       "      <td>14.0</td>\n",
       "      <td>3.0</td>\n",
       "      <td>0.0</td>\n",
       "      <td>24.0</td>\n",
       "    </tr>\n",
       "    <tr>\n",
       "      <th>2017-01-05</th>\n",
       "      <td>0.0</td>\n",
       "      <td>9.0</td>\n",
       "      <td>13.0</td>\n",
       "      <td>10.0</td>\n",
       "      <td>2.0</td>\n",
       "      <td>0.0</td>\n",
       "      <td>2.0</td>\n",
       "      <td>0.0</td>\n",
       "      <td>6.0</td>\n",
       "      <td>10.0</td>\n",
       "      <td>...</td>\n",
       "      <td>0.0</td>\n",
       "      <td>1.0</td>\n",
       "      <td>0.0</td>\n",
       "      <td>3.0</td>\n",
       "      <td>0.0</td>\n",
       "      <td>12.0</td>\n",
       "      <td>8.0</td>\n",
       "      <td>2.0</td>\n",
       "      <td>0.0</td>\n",
       "      <td>14.0</td>\n",
       "    </tr>\n",
       "  </tbody>\n",
       "</table>\n",
       "<p>5 rows × 274 columns</p>\n",
       "</div>"
      ],
      "text/plain": [
       "            111 Bond St (North of Dundas St E)  - SMART  \\\n",
       "index                                                     \n",
       "2017-01-01                                          0.0   \n",
       "2017-01-02                                          0.0   \n",
       "2017-01-03                                          0.0   \n",
       "2017-01-04                                          0.0   \n",
       "2017-01-05                                          0.0   \n",
       "\n",
       "            161 Bleecker St (South of Wellesley)  \\\n",
       "index                                              \n",
       "2017-01-01                                   4.0   \n",
       "2017-01-02                                   3.0   \n",
       "2017-01-03                                   4.0   \n",
       "2017-01-04                                  11.0   \n",
       "2017-01-05                                   9.0   \n",
       "\n",
       "            25 York St (ACC/Union Station South)  424 Wellington St W  \\\n",
       "index                                                                   \n",
       "2017-01-01                                   6.0                  2.0   \n",
       "2017-01-02                                   7.0                  9.0   \n",
       "2017-01-03                                   8.0                  4.0   \n",
       "2017-01-04                                   8.0                  9.0   \n",
       "2017-01-05                                  13.0                 10.0   \n",
       "\n",
       "            51 Parliament St  519 Church St - SMART  \\\n",
       "index                                                 \n",
       "2017-01-01               0.0                    0.0   \n",
       "2017-01-02               1.0                    0.0   \n",
       "2017-01-03               4.0                    0.0   \n",
       "2017-01-04               6.0                    0.0   \n",
       "2017-01-05               2.0                    0.0   \n",
       "\n",
       "            80 Clinton St (North of College)  Adelaide St W / Bay St - SMART  \\\n",
       "index                                                                          \n",
       "2017-01-01                               2.0                             0.0   \n",
       "2017-01-02                               4.0                             0.0   \n",
       "2017-01-03                               3.0                             0.0   \n",
       "2017-01-04                               0.0                             0.0   \n",
       "2017-01-05                               2.0                             0.0   \n",
       "\n",
       "            Augusta Ave / Denison Sq  Augusta Ave / Dundas St W  ...  \\\n",
       "index                                                            ...   \n",
       "2017-01-01                       7.0                        5.0  ...   \n",
       "2017-01-02                       5.0                        6.0  ...   \n",
       "2017-01-03                       3.0                        5.0  ...   \n",
       "2017-01-04                       3.0                       12.0  ...   \n",
       "2017-01-05                       6.0                       10.0  ...   \n",
       "\n",
       "            Wychwood Ave / Benson Ave - SMART  Yarmouth Rd / Christie St  \\\n",
       "index                                                                      \n",
       "2017-01-01                                0.0                        1.0   \n",
       "2017-01-02                                0.0                        2.0   \n",
       "2017-01-03                                0.0                        1.0   \n",
       "2017-01-04                                0.0                        0.0   \n",
       "2017-01-05                                0.0                        1.0   \n",
       "\n",
       "            Yonge St / Alexander St - SMART  Yonge St / Aylmer Ave  \\\n",
       "index                                                                \n",
       "2017-01-01                              0.0                    0.0   \n",
       "2017-01-02                              0.0                    0.0   \n",
       "2017-01-03                              0.0                    1.0   \n",
       "2017-01-04                              0.0                    1.0   \n",
       "2017-01-05                              0.0                    3.0   \n",
       "\n",
       "            Yonge St / Dundonald St - SMART  Yonge St / Harbour St  \\\n",
       "index                                                                \n",
       "2017-01-01                              0.0                    0.0   \n",
       "2017-01-02                              0.0                    6.0   \n",
       "2017-01-03                              0.0                    6.0   \n",
       "2017-01-04                              0.0                   16.0   \n",
       "2017-01-05                              0.0                   12.0   \n",
       "\n",
       "            Yonge St / Wood St  Yonge St / Yorkville Ave  \\\n",
       "index                                                      \n",
       "2017-01-01                 4.0                       2.0   \n",
       "2017-01-02                 6.0                       2.0   \n",
       "2017-01-03                 5.0                       3.0   \n",
       "2017-01-04                14.0                       3.0   \n",
       "2017-01-05                 8.0                       2.0   \n",
       "\n",
       "            York St / King St W - SMART  York St / Queens Quay W  \n",
       "index                                                             \n",
       "2017-01-01                          0.0                      4.0  \n",
       "2017-01-02                          0.0                     13.0  \n",
       "2017-01-03                          0.0                     11.0  \n",
       "2017-01-04                          0.0                     24.0  \n",
       "2017-01-05                          0.0                     14.0  \n",
       "\n",
       "[5 rows x 274 columns]"
      ]
     },
     "execution_count": 22,
     "metadata": {},
     "output_type": "execute_result"
    }
   ],
   "source": [
    "incoming.head()"
   ]
  },
  {
   "cell_type": "markdown",
   "metadata": {},
   "source": [
    "**Now, Lets calculate the bike availabilty ie outgoing bikes - incoming bikes**\n",
    "\n",
    "- if the result >= 0 then there are enough bike available in the station to be used next morning\n",
    "- if the result < 0 then we need crew to return some bikes back to the station from other station"
   ]
  },
  {
   "cell_type": "code",
   "execution_count": 23,
   "metadata": {},
   "outputs": [
    {
     "name": "stdout",
     "output_type": "stream",
     "text": [
      "Number of Stations with enough bike to use next morning for each day\n"
     ]
    },
    {
     "data": {
      "text/plain": [
       "index\n",
       "2017-01-01    198\n",
       "2017-01-02    198\n",
       "2017-01-03    195\n",
       "2017-01-04    189\n",
       "2017-01-05    189\n",
       "2017-01-06    194\n",
       "2017-01-07    200\n",
       "2017-01-08    206\n",
       "2017-01-09    195\n",
       "2017-01-10    205\n",
       "2017-01-11    185\n",
       "2017-01-12    185\n",
       "2017-01-13    186\n",
       "2017-01-14    199\n",
       "2017-01-15    198\n",
       "2017-01-16    184\n",
       "2017-01-17    205\n",
       "2017-01-18    183\n",
       "2017-01-19    183\n",
       "2017-01-20    179\n",
       "2017-01-21    181\n",
       "2017-01-22    195\n",
       "2017-01-23    182\n",
       "2017-01-24    189\n",
       "2017-01-25    180\n",
       "2017-01-26    191\n",
       "2017-01-27    184\n",
       "2017-01-28    198\n",
       "2017-01-29    192\n",
       "2017-01-30    186\n",
       "             ... \n",
       "2017-12-02    158\n",
       "2017-12-03    159\n",
       "2017-12-04    149\n",
       "2017-12-05    144\n",
       "2017-12-06    150\n",
       "2017-12-07    143\n",
       "2017-12-08    156\n",
       "2017-12-09    156\n",
       "2017-12-10    170\n",
       "2017-12-11    146\n",
       "2017-12-12    176\n",
       "2017-12-13    169\n",
       "2017-12-14    162\n",
       "2017-12-15    158\n",
       "2017-12-16    176\n",
       "2017-12-17    169\n",
       "2017-12-18    171\n",
       "2017-12-19    157\n",
       "2017-12-20    146\n",
       "2017-12-21    154\n",
       "2017-12-22    176\n",
       "2017-12-23    189\n",
       "2017-12-24    196\n",
       "2017-12-25    231\n",
       "2017-12-26    212\n",
       "2017-12-27    191\n",
       "2017-12-28    194\n",
       "2017-12-29    201\n",
       "2017-12-30    196\n",
       "2017-12-31    199\n",
       "Length: 365, dtype: int64"
      ]
     },
     "execution_count": 23,
     "metadata": {},
     "output_type": "execute_result"
    }
   ],
   "source": [
    "print('Number of Stations with enough bike to use next morning for each day')\n",
    "((incoming - outgoing)>=0).sum(axis=1)"
   ]
  },
  {
   "cell_type": "code",
   "execution_count": 24,
   "metadata": {},
   "outputs": [
    {
     "name": "stdout",
     "output_type": "stream",
     "text": [
      "Number of Stations with no bike to use next morning for each day\n"
     ]
    },
    {
     "data": {
      "text/plain": [
       "index\n",
       "2017-01-01     76\n",
       "2017-01-02     76\n",
       "2017-01-03     79\n",
       "2017-01-04     85\n",
       "2017-01-05     85\n",
       "2017-01-06     80\n",
       "2017-01-07     74\n",
       "2017-01-08     68\n",
       "2017-01-09     79\n",
       "2017-01-10     69\n",
       "2017-01-11     89\n",
       "2017-01-12     89\n",
       "2017-01-13     88\n",
       "2017-01-14     75\n",
       "2017-01-15     76\n",
       "2017-01-16     90\n",
       "2017-01-17     69\n",
       "2017-01-18     91\n",
       "2017-01-19     91\n",
       "2017-01-20     95\n",
       "2017-01-21     93\n",
       "2017-01-22     79\n",
       "2017-01-23     92\n",
       "2017-01-24     85\n",
       "2017-01-25     94\n",
       "2017-01-26     83\n",
       "2017-01-27     90\n",
       "2017-01-28     76\n",
       "2017-01-29     82\n",
       "2017-01-30     88\n",
       "             ... \n",
       "2017-12-02    116\n",
       "2017-12-03    115\n",
       "2017-12-04    125\n",
       "2017-12-05    130\n",
       "2017-12-06    124\n",
       "2017-12-07    131\n",
       "2017-12-08    118\n",
       "2017-12-09    118\n",
       "2017-12-10    104\n",
       "2017-12-11    128\n",
       "2017-12-12     98\n",
       "2017-12-13    105\n",
       "2017-12-14    112\n",
       "2017-12-15    116\n",
       "2017-12-16     98\n",
       "2017-12-17    105\n",
       "2017-12-18    103\n",
       "2017-12-19    117\n",
       "2017-12-20    128\n",
       "2017-12-21    120\n",
       "2017-12-22     98\n",
       "2017-12-23     85\n",
       "2017-12-24     78\n",
       "2017-12-25     43\n",
       "2017-12-26     62\n",
       "2017-12-27     83\n",
       "2017-12-28     80\n",
       "2017-12-29     73\n",
       "2017-12-30     78\n",
       "2017-12-31     75\n",
       "Length: 365, dtype: int64"
      ]
     },
     "execution_count": 24,
     "metadata": {},
     "output_type": "execute_result"
    }
   ],
   "source": [
    "print('Number of Stations with no bike to use next morning for each day')\n",
    "((incoming - outgoing)<0).sum(axis=1)"
   ]
  },
  {
   "cell_type": "markdown",
   "metadata": {},
   "source": [
    "### Recommendations\n",
    "- **For the stations that have no bikes available, the crew of Toronto BikeShare App can return bikes to the station for next morning**\n",
    "- **May be we should add more bikes in the stations or require members to return their own bikes**"
   ]
  },
  {
   "cell_type": "markdown",
   "metadata": {},
   "source": [
    "#### Lack of Bike Availabilty - There are some stations that always have lack of bikes for more than 200 days of the year.\n"
   ]
  },
  {
   "cell_type": "code",
   "execution_count": 25,
   "metadata": {},
   "outputs": [
    {
     "data": {
      "text/plain": [
       "54"
      ]
     },
     "execution_count": 25,
     "metadata": {},
     "output_type": "execute_result"
    }
   ],
   "source": [
    "(((incoming - outgoing)<0).sum(axis=0)>200).sum()"
   ]
  },
  {
   "cell_type": "markdown",
   "metadata": {},
   "source": [
    "**We see there are 54 stations that have 0 bikes for more than 200 days of the year**"
   ]
  },
  {
   "cell_type": "markdown",
   "metadata": {},
   "source": [
    "### Top 10 Bike Station and the total number of days in 2017 where stations had 0 bikes**"
   ]
  },
  {
   "cell_type": "code",
   "execution_count": 26,
   "metadata": {},
   "outputs": [
    {
     "data": {
      "text/plain": [
       "<matplotlib.axes._subplots.AxesSubplot at 0x21582497588>"
      ]
     },
     "execution_count": 26,
     "metadata": {},
     "output_type": "execute_result"
    },
    {
     "data": {
      "image/png": "[encoded data removed]",
      "text/plain": [
       "<Figure size 864x576 with 1 Axes>"
      ]
     },
     "metadata": {},
     "output_type": "display_data"
    }
   ],
   "source": [
    "plt.figure(figsize=(12,8))\n",
    "sns.set_style('darkgrid')\n",
    "plt.title('Top 10 Bike Station and the total number of days in 2017 where stations had 0 bikes')\n",
    "plt.xlabel(\"Number of Days\")\n",
    "sns.barplot(x = ((incoming - outgoing)<0).sum(axis=0).sort_values(ascending=False)[:10],\n",
    "            y = ((incoming - outgoing)<0).sum(axis=0).sort_values(ascending=False)[:10].index,\n",
    "            )"
   ]
  },
  {
   "cell_type": "markdown",
   "metadata": {},
   "source": [
    "**Bay St/Wellesley St W station had about 350 days when 0 bikes were available**"
   ]
  },
  {
   "cell_type": "code",
   "execution_count": 28,
   "metadata": {},
   "outputs": [],
   "source": [
    "bike_avail = incoming - outgoing # incoming bikes minus outgoing bikes\n",
    "bike_avail = np.absolute(bike_avail[bike_avail < 0]) # show only less than 0 bikes available"
   ]
  },
  {
   "cell_type": "markdown",
   "metadata": {},
   "source": [
    "### Top 10 Stations with the highest number of required returned bikes in a day"
   ]
  },
  {
   "cell_type": "code",
   "execution_count": 29,
   "metadata": {},
   "outputs": [
    {
     "data": {
      "text/plain": [
       "<matplotlib.axes._subplots.AxesSubplot at 0x215903798d0>"
      ]
     },
     "execution_count": 29,
     "metadata": {},
     "output_type": "execute_result"
    },
    {
     "data": {
      "image/png": "[encoded data removed]",
      "text/plain": [
       "<Figure size 864x576 with 1 Axes>"
      ]
     },
     "metadata": {},
     "output_type": "display_data"
    }
   ],
   "source": [
    "plt.figure(figsize=(12,8))\n",
    "sns.set_style('darkgrid')\n",
    "plt.title('10 Stations with the highest number of required returned bikes in a day')\n",
    "plt.xlabel(\"Number of Required Returned Bikes\")\n",
    "sns.barplot(x = np.max(bike_avail, axis=0).sort_values(ascending=False)[:10],\n",
    "            y = np.max(bike_avail, axis=0).sort_values(ascending=False)[:10].index,\n",
    "            )"
   ]
  },
  {
   "cell_type": "markdown",
   "metadata": {},
   "source": [
    "**Bay St/Wellesley St W station has the highest number of required returned bikes in a day**"
   ]
  },
  {
   "cell_type": "markdown",
   "metadata": {},
   "source": [
    "### Conclusion & Future Work"
   ]
  },
  {
   "cell_type": "markdown",
   "metadata": {},
   "source": [
    "- **We observe this Dataset belongs to 2017. We can see around 80% of the users are members!**\n",
    "- **The amount of rides increased as the weather got warmer. Ridership peaked during the summer months.**\n",
    "- **Members rode mostly during the week; especially from Tuesday to Thursday. That may be the case because most of the members are using to commute to their work. While Casual riders were riding mostly on weekends, that might be the case because they might be using the bikes for their personal use**\n",
    "- **Union Station was the busiest station for members as it was the top arrival and departure station**. That could be because some members might be first travelling by train to come from other places and then using bike to reach their offices. \n",
    "- **Ontario Place Blvd/Remembrance Dr was the busiest station for casual riders as it was the top arrival and departure station for them**. That could be because this route is on the lakeside with proper path for bikes, which makes it very convenient for the riders to enjoy their day on weekends.\n",
    "- **The heatmap shows us that most of the activity occured on Wednesday, Tuesday and Thursday at 17hrs ie 5pm.**\n",
    "- **We observe that Ontario Place Blvd/Remembrance Dr had the most number of two-way travellers ie 3802**\n"
   ]
  },
  {
   "cell_type": "markdown",
   "metadata": {},
   "source": [
    "#### We get a lot of insight into ridership patterns, trends for stations, bike availabity issues across stations for the year and much more. Based on the above observations and conclusion Toronto Bike Share (TBS) will be able to better understand bike usage trends and patterns in order to inform potential updates to their pricing model and operational procedures. "
   ]
  },
  {
   "cell_type": "markdown",
   "metadata": {},
   "source": [
    "### Recommendations"
   ]
  },
  {
   "cell_type": "markdown",
   "metadata": {},
   "source": [
    "- **For the stations that have no bikes available, the crew of Toronto BikeShare App can return bikes to the station for next morning. We should add more bikes at those locations stations.**\n",
    "- **Bay St/Wellesley St W station had about 350 days where 0 bikes were available**\n",
    "- **Bay St/Wellesley St W station has the highest number of required returned bikes in a day**\n",
    "- **Since union station is busiest among members, so better pricing/offers can be offerd for daily commuters to gain more customers at this station**\n",
    "- **Likewise for casual riders better pricing/offers can be promoted for new members at Rmemberance Dr route**\n"
   ]
  },
  {
   "cell_type": "markdown",
   "metadata": {},
   "source": [
    "**After the above Explorator Data Analysis I would like to investigate the flow of bikes in the Toronto Bike Share Service ie Does bike share go round-trip or one-way?**\n",
    "\n",
    "The purpose would be to analyse the flow of bikes. Are bikes returned to its initial location? Or are there flows of bike from one region to another?\n",
    "\n",
    "The sum of all the travels for each station for one year are too noisy, so\n",
    "\n",
    "- Data can be split between weekend days or not\n",
    "- Stations can be grouped by proximity in order to define regions\n",
    "- Data can be summarized by period of time ie Day, Week , Month, Year\n",
    "\n",
    "We can create a Graph representation where :\n",
    "\n",
    "- A node is a station or a region\n",
    "- An edge is the sum of all travel between 2 nodes during a period of time\n",
    "- For each node we consider the balance between outgoing and incoming flows\n",
    "- For simplicity purposes : a travel from one station to the same station is not taken in account. (balance is zero)\n",
    "- For simplicity purposes : the inverse edges are grouped as follow\n",
    "   - 10 travels from 1 to 2 and 12 travels from 2 to 1, gives -2 travels from 1 to 2 \n",
    "   - 5 travels from 1 to 2 and 4 travels from 2 to 1, gives +1 travels from 1 to 2\n",
    "\n",
    "The plan moving forward will be to\n",
    "\n",
    "- Get station information, Load the data, Cluster the stations by regions"
   ]
  }
 ],
 "metadata": {
  "kernelspec": {
   "display_name": "Python 3",
   "language": "python",
   "name": "python3"
  },
  "language_info": {
   "codemirror_mode": {
    "name": "ipython",
    "version": 3
   },
   "file_extension": ".py",
   "mimetype": "text/x-python",
   "name": "python",
   "nbconvert_exporter": "python",
   "pygments_lexer": "ipython3",
   "version": "3.7.3"
  }
 },
 "nbformat": 4,
 "nbformat_minor": 2
}
